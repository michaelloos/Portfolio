{
 "cells": [
  {
   "cell_type": "code",
   "execution_count": 1,
   "metadata": {},
   "outputs": [
    {
     "name": "stdout",
     "output_type": "stream",
     "text": [
      "C:\\Users\\loosm\\DSC-680 Applied Data Science\\Project 1\n"
     ]
    }
   ],
   "source": [
    "import os\n",
    "import shutil\n",
    "from pathlib import Path\n",
    "\n",
    "current_dir = Path(os.getcwd()).absolute()\n",
    "pics_dir = current_dir.joinpath('Team Pics')\n",
    "\n",
    "#make paths to training, validation, and test directories\n",
    "train_dir = current_dir.joinpath('train')\n",
    "validation_dir = current_dir.joinpath('validation')\n",
    "test_dir = current_dir.joinpath('test')\n",
    "\n",
    "print(current_dir)"
   ]
  },
  {
   "cell_type": "code",
   "execution_count": 3,
   "metadata": {},
   "outputs": [
    {
     "name": "stderr",
     "output_type": "stream",
     "text": [
      "C:\\Users\\loosm\\Anaconda\\lib\\site-packages\\requests\\__init__.py:89: RequestsDependencyWarning: urllib3 (1.26.7) or chardet (3.0.4) doesn't match a supported version!\n",
      "  warnings.warn(\"urllib3 ({}) or chardet ({}) doesn't match a supported \"\n"
     ]
    },
    {
     "name": "stdout",
     "output_type": "stream",
     "text": [
      "Found 4176 images belonging to 14 classes.\n",
      "Found 1382 images belonging to 14 classes.\n",
      "Found 1393 images belonging to 14 classes.\n"
     ]
    }
   ],
   "source": [
    "from keras.preprocessing import image\n",
    "from keras.preprocessing.image import ImageDataGenerator\n",
    "\n",
    "\n",
    "train_datagen = ImageDataGenerator(rescale=1./255.,\n",
    "                                   rotation_range=40,\n",
    "                                    width_shift_range=0.2,\n",
    "                                    height_shift_range=0.2,\n",
    "                                    shear_range=0.2,\n",
    "                                    zoom_range=0.2,\n",
    "                                    horizontal_flip=True)\n",
    "\n",
    "test_datagen = ImageDataGenerator(rescale=1./255)\n",
    "\n",
    "train_generator = train_datagen.flow_from_directory(\n",
    "    train_dir,\n",
    "    target_size=(150, 150),\n",
    "    batch_size=20,\n",
    "    class_mode='categorical')\n",
    "\n",
    "validation_generator = test_datagen.flow_from_directory(\n",
    "    validation_dir,\n",
    "    target_size=(150, 150),\n",
    "    batch_size=10,\n",
    "    class_mode='categorical')\n",
    "\n",
    "test_generator = test_datagen.flow_from_directory(\n",
    "    test_dir,\n",
    "    target_size=(150, 150),\n",
    "    batch_size=10,\n",
    "    class_mode='categorical')"
   ]
  },
  {
   "cell_type": "code",
   "execution_count": 4,
   "metadata": {},
   "outputs": [
    {
     "name": "stdout",
     "output_type": "stream",
     "text": [
      "data batch shape: (20, 150, 150, 3)\n",
      "labels batch shape: (20, 14)\n"
     ]
    }
   ],
   "source": [
    "for data_batch, labels_batch in train_generator:\n",
    "    print('data batch shape:', data_batch.shape)\n",
    "    print('labels batch shape:', labels_batch.shape)\n",
    "    break\n"
   ]
  },
  {
   "cell_type": "code",
   "execution_count": 5,
   "metadata": {},
   "outputs": [
    {
     "name": "stdout",
     "output_type": "stream",
     "text": [
      "labels batch shape: [[0. 0. 0. 0. 0. 1. 0. 0. 0. 0. 0. 0. 0. 0.]\n",
      " [0. 0. 0. 0. 0. 0. 0. 0. 0. 0. 0. 0. 1. 0.]\n",
      " [0. 0. 0. 0. 0. 0. 0. 0. 0. 1. 0. 0. 0. 0.]\n",
      " [0. 0. 0. 1. 0. 0. 0. 0. 0. 0. 0. 0. 0. 0.]\n",
      " [0. 0. 0. 0. 0. 0. 0. 0. 1. 0. 0. 0. 0. 0.]\n",
      " [0. 0. 0. 0. 0. 0. 0. 0. 0. 1. 0. 0. 0. 0.]\n",
      " [0. 0. 0. 0. 0. 0. 0. 1. 0. 0. 0. 0. 0. 0.]\n",
      " [0. 0. 0. 0. 0. 0. 0. 1. 0. 0. 0. 0. 0. 0.]\n",
      " [0. 0. 0. 0. 0. 0. 0. 0. 0. 0. 0. 0. 0. 1.]\n",
      " [0. 0. 1. 0. 0. 0. 0. 0. 0. 0. 0. 0. 0. 0.]\n",
      " [0. 0. 0. 0. 0. 0. 1. 0. 0. 0. 0. 0. 0. 0.]\n",
      " [0. 0. 0. 0. 0. 0. 0. 0. 0. 0. 0. 0. 0. 1.]\n",
      " [0. 0. 0. 0. 0. 0. 1. 0. 0. 0. 0. 0. 0. 0.]\n",
      " [0. 0. 0. 0. 0. 0. 0. 1. 0. 0. 0. 0. 0. 0.]\n",
      " [0. 0. 1. 0. 0. 0. 0. 0. 0. 0. 0. 0. 0. 0.]\n",
      " [0. 0. 0. 0. 0. 0. 0. 0. 0. 0. 1. 0. 0. 0.]\n",
      " [0. 0. 0. 0. 0. 0. 0. 0. 0. 1. 0. 0. 0. 0.]\n",
      " [0. 0. 0. 0. 0. 0. 0. 0. 1. 0. 0. 0. 0. 0.]\n",
      " [0. 0. 0. 0. 0. 0. 0. 0. 0. 1. 0. 0. 0. 0.]\n",
      " [0. 0. 0. 0. 0. 0. 1. 0. 0. 0. 0. 0. 0. 0.]]\n"
     ]
    }
   ],
   "source": [
    "for data_batch, labels_batch in train_generator:\n",
    "#     print('data batch shape:', data_batch)\n",
    "    print('labels batch shape:', labels_batch)\n",
    "    break"
   ]
  },
  {
   "cell_type": "markdown",
   "metadata": {},
   "source": [
    "## Model with 60 epochs"
   ]
  },
  {
   "cell_type": "code",
   "execution_count": 6,
   "metadata": {},
   "outputs": [
    {
     "name": "stdout",
     "output_type": "stream",
     "text": [
      "Model: \"sequential\"\n",
      "_________________________________________________________________\n",
      "Layer (type)                 Output Shape              Param #   \n",
      "=================================================================\n",
      "conv2d (Conv2D)              (None, 150, 150, 32)      896       \n",
      "_________________________________________________________________\n",
      "max_pooling2d (MaxPooling2D) (None, 75, 75, 32)        0         \n",
      "_________________________________________________________________\n",
      "conv2d_1 (Conv2D)            (None, 73, 73, 64)        18496     \n",
      "_________________________________________________________________\n",
      "max_pooling2d_1 (MaxPooling2 (None, 36, 36, 64)        0         \n",
      "_________________________________________________________________\n",
      "conv2d_2 (Conv2D)            (None, 34, 34, 128)       73856     \n",
      "_________________________________________________________________\n",
      "max_pooling2d_2 (MaxPooling2 (None, 17, 17, 128)       0         \n",
      "_________________________________________________________________\n",
      "conv2d_3 (Conv2D)            (None, 15, 15, 128)       147584    \n",
      "_________________________________________________________________\n",
      "max_pooling2d_3 (MaxPooling2 (None, 7, 7, 128)         0         \n",
      "_________________________________________________________________\n",
      "flatten (Flatten)            (None, 6272)              0         \n",
      "_________________________________________________________________\n",
      "dense (Dense)                (None, 512)               3211776   \n",
      "_________________________________________________________________\n",
      "dense_1 (Dense)              (None, 14)                7182      \n",
      "=================================================================\n",
      "Total params: 3,459,790\n",
      "Trainable params: 3,459,790\n",
      "Non-trainable params: 0\n",
      "_________________________________________________________________\n"
     ]
    }
   ],
   "source": [
    "from keras import models\n",
    "from keras import layers\n",
    "from keras import optimizers\n",
    "\n",
    "#build covnet\n",
    "model = models.Sequential()\n",
    "model.add(layers.Conv2D(32, (3, 3), activation='relu', padding='same',input_shape=(150, 150, 3)))\n",
    "# model.add(layers.Conv2D(32, (3, 3), activation='relu', padding='same'))\n",
    "model.add(layers.MaxPooling2D((2, 2)))\n",
    "model.add(layers.Conv2D(64, (3, 3), activation='relu'))\n",
    "# model.add(layers.Conv2D(64, (3, 3), activation='relu', padding='same'))\n",
    "model.add(layers.MaxPooling2D((2, 2)))\n",
    "model.add(layers.Conv2D(128, (3, 3), activation='relu'))\n",
    "model.add(layers.MaxPooling2D((2, 2)))\n",
    "model.add(layers.Conv2D(128, (3, 3), activation='relu'))\n",
    "model.add(layers.MaxPooling2D((2, 2)))\n",
    "model.add(layers.Flatten())\n",
    "model.add(layers.Dense(512, activation='relu'))\n",
    "model.add(layers.Dense(14, activation='softmax'))\n",
    "\n",
    "model.compile(loss='categorical_crossentropy', optimizer=optimizers.RMSprop(lr=1e-4), metrics=['accuracy'])\n",
    "model.summary()"
   ]
  },
  {
   "cell_type": "code",
   "execution_count": 7,
   "metadata": {
    "scrolled": true
   },
   "outputs": [
    {
     "name": "stderr",
     "output_type": "stream",
     "text": [
      "C:\\Users\\loosm\\AppData\\Roaming\\Python\\Python38\\site-packages\\tensorflow\\python\\keras\\engine\\training.py:1844: UserWarning: `Model.fit_generator` is deprecated and will be removed in a future version. Please use `Model.fit`, which supports generators.\n",
      "  warnings.warn('`Model.fit_generator` is deprecated and '\n"
     ]
    },
    {
     "name": "stdout",
     "output_type": "stream",
     "text": [
      "Epoch 1/60\n",
      "200/200 [==============================] - 90s 448ms/step - loss: 2.5783 - accuracy: 0.1031 - val_loss: 2.2872 - val_accuracy: 0.1693\n",
      "Epoch 2/60\n",
      "200/200 [==============================] - 80s 397ms/step - loss: 2.2350 - accuracy: 0.1968 - val_loss: 2.1819 - val_accuracy: 0.2156\n",
      "Epoch 3/60\n",
      "200/200 [==============================] - 81s 405ms/step - loss: 2.1266 - accuracy: 0.2424 - val_loss: 2.0625 - val_accuracy: 0.2735\n",
      "Epoch 4/60\n",
      "200/200 [==============================] - 81s 405ms/step - loss: 2.0213 - accuracy: 0.2973 - val_loss: 1.9528 - val_accuracy: 0.3162\n",
      "Epoch 5/60\n",
      "200/200 [==============================] - 81s 404ms/step - loss: 1.9566 - accuracy: 0.3344 - val_loss: 1.8558 - val_accuracy: 0.3654\n",
      "Epoch 6/60\n",
      "200/200 [==============================] - 81s 405ms/step - loss: 1.8756 - accuracy: 0.3539 - val_loss: 1.7696 - val_accuracy: 0.4132\n",
      "Epoch 7/60\n",
      "200/200 [==============================] - 82s 408ms/step - loss: 1.8394 - accuracy: 0.3666 - val_loss: 1.8481 - val_accuracy: 0.3871\n",
      "Epoch 8/60\n",
      "200/200 [==============================] - 118s 588ms/step - loss: 1.7980 - accuracy: 0.3964 - val_loss: 1.7626 - val_accuracy: 0.4117\n",
      "Epoch 9/60\n",
      "200/200 [==============================] - 87s 435ms/step - loss: 1.7511 - accuracy: 0.4137 - val_loss: 1.6600 - val_accuracy: 0.4219\n",
      "Epoch 10/60\n",
      "200/200 [==============================] - 143s 711ms/step - loss: 1.6758 - accuracy: 0.4415 - val_loss: 1.6473 - val_accuracy: 0.4428\n",
      "Epoch 11/60\n",
      "200/200 [==============================] - 142s 711ms/step - loss: 1.6549 - accuracy: 0.4556 - val_loss: 1.6515 - val_accuracy: 0.4559\n",
      "Epoch 12/60\n",
      "200/200 [==============================] - 103s 513ms/step - loss: 1.6741 - accuracy: 0.4314 - val_loss: 1.5543 - val_accuracy: 0.4718\n",
      "Epoch 13/60\n",
      "200/200 [==============================] - 82s 410ms/step - loss: 1.6377 - accuracy: 0.4579 - val_loss: 1.5926 - val_accuracy: 0.4776\n",
      "Epoch 14/60\n",
      "200/200 [==============================] - 83s 414ms/step - loss: 1.6039 - accuracy: 0.4698 - val_loss: 1.6138 - val_accuracy: 0.4754\n",
      "Epoch 15/60\n",
      "200/200 [==============================] - 84s 420ms/step - loss: 1.5693 - accuracy: 0.4763 - val_loss: 1.7395 - val_accuracy: 0.4443\n",
      "Epoch 16/60\n",
      "200/200 [==============================] - 83s 414ms/step - loss: 1.5373 - accuracy: 0.4945 - val_loss: 1.5656 - val_accuracy: 0.4913\n",
      "Epoch 17/60\n",
      "200/200 [==============================] - 82s 410ms/step - loss: 1.5172 - accuracy: 0.4982 - val_loss: 1.5488 - val_accuracy: 0.4993\n",
      "Epoch 18/60\n",
      "200/200 [==============================] - 85s 425ms/step - loss: 1.4997 - accuracy: 0.4968 - val_loss: 1.6184 - val_accuracy: 0.4674\n",
      "Epoch 19/60\n",
      "200/200 [==============================] - 84s 418ms/step - loss: 1.5117 - accuracy: 0.4965 - val_loss: 1.4616 - val_accuracy: 0.5304\n",
      "Epoch 20/60\n",
      "200/200 [==============================] - 86s 428ms/step - loss: 1.4722 - accuracy: 0.5185 - val_loss: 1.4279 - val_accuracy: 0.5340\n",
      "Epoch 21/60\n",
      "200/200 [==============================] - 84s 418ms/step - loss: 1.4672 - accuracy: 0.5347 - val_loss: 1.6056 - val_accuracy: 0.4768\n",
      "Epoch 22/60\n",
      "200/200 [==============================] - 84s 420ms/step - loss: 1.4415 - accuracy: 0.5240 - val_loss: 1.4469 - val_accuracy: 0.5224\n",
      "Epoch 23/60\n",
      "200/200 [==============================] - 84s 419ms/step - loss: 1.4089 - accuracy: 0.5288 - val_loss: 1.6358 - val_accuracy: 0.4703\n",
      "Epoch 24/60\n",
      "200/200 [==============================] - 85s 423ms/step - loss: 1.4122 - accuracy: 0.5346 - val_loss: 1.4452 - val_accuracy: 0.5210\n",
      "Epoch 25/60\n",
      "200/200 [==============================] - 84s 419ms/step - loss: 1.3708 - accuracy: 0.5394 - val_loss: 1.4910 - val_accuracy: 0.5123\n",
      "Epoch 26/60\n",
      "200/200 [==============================] - 85s 422ms/step - loss: 1.3636 - accuracy: 0.5474 - val_loss: 1.4436 - val_accuracy: 0.5326\n",
      "Epoch 27/60\n",
      "200/200 [==============================] - 84s 418ms/step - loss: 1.3833 - accuracy: 0.5343 - val_loss: 1.4382 - val_accuracy: 0.5260\n",
      "Epoch 28/60\n",
      "200/200 [==============================] - 85s 424ms/step - loss: 1.3753 - accuracy: 0.5310 - val_loss: 1.3834 - val_accuracy: 0.5405\n",
      "Epoch 29/60\n",
      "200/200 [==============================] - 123s 615ms/step - loss: 1.3824 - accuracy: 0.5304 - val_loss: 1.3832 - val_accuracy: 0.5543\n",
      "Epoch 30/60\n",
      "200/200 [==============================] - 148s 737ms/step - loss: 1.3735 - accuracy: 0.5443 - val_loss: 1.4010 - val_accuracy: 0.5384\n",
      "Epoch 31/60\n",
      "200/200 [==============================] - 151s 753ms/step - loss: 1.3133 - accuracy: 0.5642 - val_loss: 1.3759 - val_accuracy: 0.5550\n",
      "Epoch 32/60\n",
      "200/200 [==============================] - 153s 763ms/step - loss: 1.3028 - accuracy: 0.5676 - val_loss: 1.3658 - val_accuracy: 0.5557\n",
      "Epoch 33/60\n",
      "200/200 [==============================] - 149s 743ms/step - loss: 1.2970 - accuracy: 0.5658 - val_loss: 1.3873 - val_accuracy: 0.5572\n",
      "Epoch 34/60\n",
      "200/200 [==============================] - 151s 756ms/step - loss: 1.2905 - accuracy: 0.5597 - val_loss: 1.3447 - val_accuracy: 0.5716\n",
      "Epoch 35/60\n",
      "200/200 [==============================] - 153s 762ms/step - loss: 1.2706 - accuracy: 0.5699 - val_loss: 1.4138 - val_accuracy: 0.5514\n",
      "Epoch 36/60\n",
      "200/200 [==============================] - 108s 536ms/step - loss: 1.2940 - accuracy: 0.5697 - val_loss: 1.3155 - val_accuracy: 0.5868\n",
      "Epoch 37/60\n",
      "200/200 [==============================] - 91s 455ms/step - loss: 1.2571 - accuracy: 0.5778 - val_loss: 1.4006 - val_accuracy: 0.5586\n",
      "Epoch 38/60\n",
      "200/200 [==============================] - 93s 466ms/step - loss: 1.2260 - accuracy: 0.5980 - val_loss: 1.4488 - val_accuracy: 0.5326\n",
      "Epoch 39/60\n",
      "200/200 [==============================] - 88s 442ms/step - loss: 1.2453 - accuracy: 0.5833 - val_loss: 1.3475 - val_accuracy: 0.5695\n",
      "Epoch 40/60\n",
      "200/200 [==============================] - 88s 441ms/step - loss: 1.2676 - accuracy: 0.5784 - val_loss: 1.3266 - val_accuracy: 0.5810\n",
      "Epoch 41/60\n",
      "200/200 [==============================] - 88s 441ms/step - loss: 1.1952 - accuracy: 0.6100 - val_loss: 1.3501 - val_accuracy: 0.5868\n",
      "Epoch 42/60\n",
      "200/200 [==============================] - 89s 442ms/step - loss: 1.1930 - accuracy: 0.6085 - val_loss: 1.3300 - val_accuracy: 0.5818\n",
      "Epoch 43/60\n",
      "200/200 [==============================] - 89s 444ms/step - loss: 1.2103 - accuracy: 0.6104 - val_loss: 1.4167 - val_accuracy: 0.5666\n",
      "Epoch 44/60\n",
      "200/200 [==============================] - 89s 446ms/step - loss: 1.1684 - accuracy: 0.6129 - val_loss: 1.3272 - val_accuracy: 0.5839\n",
      "Epoch 45/60\n",
      "200/200 [==============================] - 88s 442ms/step - loss: 1.1514 - accuracy: 0.6244 - val_loss: 1.4410 - val_accuracy: 0.5434\n",
      "Epoch 46/60\n",
      "200/200 [==============================] - 86s 427ms/step - loss: 1.1360 - accuracy: 0.6338 - val_loss: 1.2508 - val_accuracy: 0.6056\n",
      "Epoch 47/60\n",
      "200/200 [==============================] - 93s 463ms/step - loss: 1.1701 - accuracy: 0.6102 - val_loss: 1.2401 - val_accuracy: 0.6158\n",
      "Epoch 48/60\n",
      "200/200 [==============================] - 88s 438ms/step - loss: 1.1353 - accuracy: 0.6195 - val_loss: 1.2487 - val_accuracy: 0.6151\n",
      "Epoch 49/60\n",
      "200/200 [==============================] - 88s 440ms/step - loss: 1.1450 - accuracy: 0.6203 - val_loss: 1.3137 - val_accuracy: 0.5941\n",
      "Epoch 50/60\n",
      "200/200 [==============================] - 89s 445ms/step - loss: 1.0977 - accuracy: 0.6319 - val_loss: 1.3158 - val_accuracy: 0.6042\n",
      "Epoch 51/60\n",
      "200/200 [==============================] - 88s 441ms/step - loss: 1.1196 - accuracy: 0.6278 - val_loss: 1.2523 - val_accuracy: 0.6230\n",
      "Epoch 52/60\n",
      "200/200 [==============================] - 88s 441ms/step - loss: 1.1145 - accuracy: 0.6436 - val_loss: 1.3386 - val_accuracy: 0.5999\n",
      "Epoch 53/60\n",
      "200/200 [==============================] - 135s 676ms/step - loss: 1.1022 - accuracy: 0.6276 - val_loss: 1.4604 - val_accuracy: 0.5622\n",
      "Epoch 54/60\n",
      "200/200 [==============================] - 161s 804ms/step - loss: 1.1105 - accuracy: 0.6274 - val_loss: 1.3510 - val_accuracy: 0.5962\n",
      "Epoch 55/60\n",
      "200/200 [==============================] - 153s 763ms/step - loss: 1.0664 - accuracy: 0.6425 - val_loss: 1.2854 - val_accuracy: 0.6151\n",
      "Epoch 56/60\n",
      "200/200 [==============================] - 157s 784ms/step - loss: 1.0619 - accuracy: 0.6389 - val_loss: 1.4592 - val_accuracy: 0.5825\n",
      "Epoch 57/60\n"
     ]
    },
    {
     "name": "stdout",
     "output_type": "stream",
     "text": [
      "200/200 [==============================] - 99s 490ms/step - loss: 1.0493 - accuracy: 0.6650 - val_loss: 1.2807 - val_accuracy: 0.6143\n",
      "Epoch 58/60\n",
      "200/200 [==============================] - 88s 440ms/step - loss: 1.0271 - accuracy: 0.6600 - val_loss: 1.3035 - val_accuracy: 0.6020\n",
      "Epoch 59/60\n",
      "200/200 [==============================] - 91s 453ms/step - loss: 1.0247 - accuracy: 0.6644 - val_loss: 1.2875 - val_accuracy: 0.5948\n",
      "Epoch 60/60\n",
      "200/200 [==============================] - 89s 443ms/step - loss: 1.0210 - accuracy: 0.6605 - val_loss: 1.1949 - val_accuracy: 0.6454\n"
     ]
    }
   ],
   "source": [
    "history = model.fit_generator(\n",
    "train_generator,\n",
    "steps_per_epoch=200,\n",
    "epochs=60,\n",
    "validation_data=validation_generator,\n",
    "validation_steps=50\n",
    ")"
   ]
  },
  {
   "cell_type": "code",
   "execution_count": 8,
   "metadata": {},
   "outputs": [
    {
     "data": {
      "image/png": "[encoded data removed]",
      "text/plain": [
       "<Figure size 432x288 with 1 Axes>"
      ]
     },
     "metadata": {
      "needs_background": "light"
     },
     "output_type": "display_data"
    },
    {
     "data": {
      "image/png": "[encoded data removed]",
      "text/plain": [
       "<Figure size 432x288 with 1 Axes>"
      ]
     },
     "metadata": {
      "needs_background": "light"
     },
     "output_type": "display_data"
    }
   ],
   "source": [
    "import matplotlib.pyplot as plt\n",
    "\n",
    "acc = history.history['accuracy']\n",
    "val_acc = history.history['val_accuracy']\n",
    "loss = history.history['loss']\n",
    "val_loss = history.history['val_loss']\n",
    "\n",
    "epochs = range(1, len(acc) + 1)\n",
    "\n",
    "plt.plot(epochs, acc, 'bo', label='Training acc')\n",
    "plt.plot(epochs, val_acc, 'b', label='Validation acc')\n",
    "plt.title('Training and validation accuracy')\n",
    "plt.legend()\n",
    "\n",
    "plt.figure()\n",
    "\n",
    "plt.plot(epochs, loss, 'bo', label='Training loss')\n",
    "plt.plot(epochs, val_loss, 'b', label='Validation loss')\n",
    "plt.title('Training and validation loss')\n",
    "plt.legend()\n",
    "plt.show()"
   ]
  },
  {
   "cell_type": "code",
   "execution_count": 36,
   "metadata": {},
   "outputs": [
    {
     "name": "stdout",
     "output_type": "stream",
     "text": [
      "Test Loss: 1.2470808029174805\n",
      "Test Accuracy:0.6288585662841797\n"
     ]
    }
   ],
   "source": [
    "loss, accuracy = model.evaluate_generator(test_generator)\n",
    "print(f'Test Loss: {loss}\\nTest Accuracy:{accuracy}')"
   ]
  },
  {
   "cell_type": "code",
   "execution_count": 37,
   "metadata": {},
   "outputs": [
    {
     "name": "stdout",
     "output_type": "stream",
     "text": [
      "140/140 [==============================] - 9s 66ms/step - loss: 1.2471 - accuracy: 0.6289\n",
      "Test Loss: 1.247080683708191\n",
      "Test Accuracy:0.6288585662841797\n"
     ]
    }
   ],
   "source": [
    "loss, accuracy = model.evaluate(test_generator)\n",
    "print(f'Test Loss: {loss}\\nTest Accuracy:{accuracy}')"
   ]
  },
  {
   "cell_type": "markdown",
   "metadata": {},
   "source": [
    "## Model with 40 epochs"
   ]
  },
  {
   "cell_type": "code",
   "execution_count": 12,
   "metadata": {},
   "outputs": [
    {
     "name": "stdout",
     "output_type": "stream",
     "text": [
      "Model: \"sequential_1\"\n",
      "_________________________________________________________________\n",
      "Layer (type)                 Output Shape              Param #   \n",
      "=================================================================\n",
      "conv2d_4 (Conv2D)            (None, 150, 150, 32)      896       \n",
      "_________________________________________________________________\n",
      "max_pooling2d_4 (MaxPooling2 (None, 75, 75, 32)        0         \n",
      "_________________________________________________________________\n",
      "conv2d_5 (Conv2D)            (None, 73, 73, 64)        18496     \n",
      "_________________________________________________________________\n",
      "max_pooling2d_5 (MaxPooling2 (None, 36, 36, 64)        0         \n",
      "_________________________________________________________________\n",
      "conv2d_6 (Conv2D)            (None, 34, 34, 128)       73856     \n",
      "_________________________________________________________________\n",
      "max_pooling2d_6 (MaxPooling2 (None, 17, 17, 128)       0         \n",
      "_________________________________________________________________\n",
      "conv2d_7 (Conv2D)            (None, 15, 15, 128)       147584    \n",
      "_________________________________________________________________\n",
      "max_pooling2d_7 (MaxPooling2 (None, 7, 7, 128)         0         \n",
      "_________________________________________________________________\n",
      "flatten_1 (Flatten)          (None, 6272)              0         \n",
      "_________________________________________________________________\n",
      "dense_2 (Dense)              (None, 512)               3211776   \n",
      "_________________________________________________________________\n",
      "dense_3 (Dense)              (None, 14)                7182      \n",
      "=================================================================\n",
      "Total params: 3,459,790\n",
      "Trainable params: 3,459,790\n",
      "Non-trainable params: 0\n",
      "_________________________________________________________________\n"
     ]
    }
   ],
   "source": [
    "#build covnet\n",
    "model2 = models.Sequential()\n",
    "model2.add(layers.Conv2D(32, (3, 3), activation='relu', padding='same',input_shape=(150, 150, 3)))\n",
    "# model.add(layers.Conv2D(32, (3, 3), activation='relu', padding='same'))\n",
    "model2.add(layers.MaxPooling2D((2, 2)))\n",
    "model2.add(layers.Conv2D(64, (3, 3), activation='relu'))\n",
    "# model.add(layers.Conv2D(64, (3, 3), activation='relu', padding='same'))\n",
    "model2.add(layers.MaxPooling2D((2, 2)))\n",
    "model2.add(layers.Conv2D(128, (3, 3), activation='relu'))\n",
    "model2.add(layers.MaxPooling2D((2, 2)))\n",
    "model2.add(layers.Conv2D(128, (3, 3), activation='relu'))\n",
    "model2.add(layers.MaxPooling2D((2, 2)))\n",
    "model2.add(layers.Flatten())\n",
    "model2.add(layers.Dense(512, activation='relu'))\n",
    "model2.add(layers.Dense(14, activation='softmax'))\n",
    "\n",
    "model2.compile(loss='categorical_crossentropy', optimizer=optimizers.RMSprop(lr=1e-4), metrics=['accuracy'])\n",
    "model2.summary()"
   ]
  },
  {
   "cell_type": "code",
   "execution_count": 13,
   "metadata": {
    "scrolled": true
   },
   "outputs": [
    {
     "name": "stdout",
     "output_type": "stream",
     "text": [
      "Epoch 1/40\n",
      "200/200 [==============================] - 84s 410ms/step - loss: 2.5855 - accuracy: 0.1033 - val_loss: 2.2500 - val_accuracy: 0.1900\n",
      "Epoch 2/40\n",
      "200/200 [==============================] - 83s 414ms/step - loss: 2.2260 - accuracy: 0.2040 - val_loss: 2.0694 - val_accuracy: 0.2840\n",
      "Epoch 3/40\n",
      "200/200 [==============================] - 82s 407ms/step - loss: 2.1263 - accuracy: 0.2432 - val_loss: 1.9928 - val_accuracy: 0.3100\n",
      "Epoch 4/40\n",
      "200/200 [==============================] - 81s 404ms/step - loss: 2.0133 - accuracy: 0.2943 - val_loss: 1.9951 - val_accuracy: 0.3200\n",
      "Epoch 5/40\n",
      "200/200 [==============================] - 86s 431ms/step - loss: 1.9261 - accuracy: 0.3282 - val_loss: 1.8239 - val_accuracy: 0.3940\n",
      "Epoch 6/40\n",
      "200/200 [==============================] - 82s 410ms/step - loss: 1.8883 - accuracy: 0.3661 - val_loss: 1.8152 - val_accuracy: 0.3760\n",
      "Epoch 7/40\n",
      "200/200 [==============================] - 83s 412ms/step - loss: 1.8384 - accuracy: 0.3904 - val_loss: 1.7248 - val_accuracy: 0.3920\n",
      "Epoch 8/40\n",
      "200/200 [==============================] - 84s 421ms/step - loss: 1.7610 - accuracy: 0.4107 - val_loss: 1.7349 - val_accuracy: 0.4040\n",
      "Epoch 9/40\n",
      "200/200 [==============================] - 82s 409ms/step - loss: 1.7378 - accuracy: 0.4136 - val_loss: 1.7229 - val_accuracy: 0.4260\n",
      "Epoch 10/40\n",
      "200/200 [==============================] - 84s 419ms/step - loss: 1.6801 - accuracy: 0.4333 - val_loss: 1.6758 - val_accuracy: 0.4360\n",
      "Epoch 11/40\n",
      "200/200 [==============================] - 82s 410ms/step - loss: 1.6726 - accuracy: 0.4456 - val_loss: 1.5526 - val_accuracy: 0.4520\n",
      "Epoch 12/40\n",
      "200/200 [==============================] - 82s 406ms/step - loss: 1.6366 - accuracy: 0.4533 - val_loss: 1.5859 - val_accuracy: 0.4860\n",
      "Epoch 13/40\n",
      "200/200 [==============================] - 80s 397ms/step - loss: 1.6187 - accuracy: 0.4604 - val_loss: 1.5232 - val_accuracy: 0.4640\n",
      "Epoch 14/40\n",
      "200/200 [==============================] - 77s 386ms/step - loss: 1.5634 - accuracy: 0.4861 - val_loss: 1.4945 - val_accuracy: 0.4920\n",
      "Epoch 15/40\n",
      "200/200 [==============================] - 77s 386ms/step - loss: 1.5932 - accuracy: 0.4764 - val_loss: 1.5429 - val_accuracy: 0.4800\n",
      "Epoch 16/40\n",
      "200/200 [==============================] - 78s 390ms/step - loss: 1.5593 - accuracy: 0.4850 - val_loss: 1.5560 - val_accuracy: 0.5040\n",
      "Epoch 17/40\n",
      "200/200 [==============================] - 78s 388ms/step - loss: 1.5311 - accuracy: 0.4866 - val_loss: 1.5984 - val_accuracy: 0.4540\n",
      "Epoch 18/40\n",
      "200/200 [==============================] - 77s 386ms/step - loss: 1.5012 - accuracy: 0.5025 - val_loss: 1.5372 - val_accuracy: 0.4820\n",
      "Epoch 19/40\n",
      "200/200 [==============================] - 78s 388ms/step - loss: 1.5089 - accuracy: 0.4894 - val_loss: 1.4130 - val_accuracy: 0.5500\n",
      "Epoch 20/40\n",
      "200/200 [==============================] - 77s 386ms/step - loss: 1.5319 - accuracy: 0.4925 - val_loss: 1.5036 - val_accuracy: 0.5080\n",
      "Epoch 21/40\n",
      "200/200 [==============================] - 78s 388ms/step - loss: 1.4848 - accuracy: 0.5246 - val_loss: 1.5612 - val_accuracy: 0.5180\n",
      "Epoch 22/40\n",
      "200/200 [==============================] - 77s 387ms/step - loss: 1.4418 - accuracy: 0.5143 - val_loss: 1.3847 - val_accuracy: 0.5340\n",
      "Epoch 23/40\n",
      "200/200 [==============================] - 77s 386ms/step - loss: 1.4216 - accuracy: 0.5178 - val_loss: 1.4492 - val_accuracy: 0.5360\n",
      "Epoch 24/40\n",
      "200/200 [==============================] - 77s 385ms/step - loss: 1.4232 - accuracy: 0.5396 - val_loss: 1.6055 - val_accuracy: 0.4880\n",
      "Epoch 25/40\n",
      "200/200 [==============================] - 78s 387ms/step - loss: 1.4437 - accuracy: 0.5313 - val_loss: 1.4161 - val_accuracy: 0.5400\n",
      "Epoch 26/40\n",
      "200/200 [==============================] - 77s 386ms/step - loss: 1.3897 - accuracy: 0.5448 - val_loss: 1.6580 - val_accuracy: 0.4600\n",
      "Epoch 27/40\n",
      "200/200 [==============================] - 77s 382ms/step - loss: 1.3852 - accuracy: 0.5305 - val_loss: 1.3595 - val_accuracy: 0.5500\n",
      "Epoch 28/40\n",
      "200/200 [==============================] - 78s 388ms/step - loss: 1.3668 - accuracy: 0.5437 - val_loss: 1.4017 - val_accuracy: 0.5420\n",
      "Epoch 29/40\n",
      "200/200 [==============================] - 77s 385ms/step - loss: 1.3715 - accuracy: 0.5482 - val_loss: 1.3808 - val_accuracy: 0.5660\n",
      "Epoch 30/40\n",
      "200/200 [==============================] - 77s 385ms/step - loss: 1.3286 - accuracy: 0.5564 - val_loss: 1.3815 - val_accuracy: 0.5600\n",
      "Epoch 31/40\n",
      "200/200 [==============================] - 77s 384ms/step - loss: 1.3318 - accuracy: 0.5602 - val_loss: 1.6007 - val_accuracy: 0.5180\n",
      "Epoch 32/40\n",
      "200/200 [==============================] - 77s 386ms/step - loss: 1.3108 - accuracy: 0.5603 - val_loss: 1.3072 - val_accuracy: 0.5480\n",
      "Epoch 33/40\n",
      "200/200 [==============================] - 78s 388ms/step - loss: 1.2862 - accuracy: 0.5744 - val_loss: 1.2797 - val_accuracy: 0.5860\n",
      "Epoch 34/40\n",
      "200/200 [==============================] - 77s 385ms/step - loss: 1.2792 - accuracy: 0.5647 - val_loss: 1.3713 - val_accuracy: 0.5460\n",
      "Epoch 35/40\n",
      "200/200 [==============================] - 77s 386ms/step - loss: 1.2737 - accuracy: 0.5767 - val_loss: 1.3981 - val_accuracy: 0.5680\n",
      "Epoch 36/40\n",
      "200/200 [==============================] - 78s 388ms/step - loss: 1.2757 - accuracy: 0.5734 - val_loss: 1.2304 - val_accuracy: 0.6060\n",
      "Epoch 37/40\n",
      "200/200 [==============================] - 78s 388ms/step - loss: 1.2718 - accuracy: 0.5857 - val_loss: 1.3788 - val_accuracy: 0.5620\n",
      "Epoch 38/40\n",
      "200/200 [==============================] - 78s 388ms/step - loss: 1.2466 - accuracy: 0.5835 - val_loss: 1.4094 - val_accuracy: 0.5540\n",
      "Epoch 39/40\n",
      "200/200 [==============================] - 77s 386ms/step - loss: 1.2627 - accuracy: 0.5804 - val_loss: 1.3904 - val_accuracy: 0.5640\n",
      "Epoch 40/40\n",
      "200/200 [==============================] - 77s 386ms/step - loss: 1.2426 - accuracy: 0.5892 - val_loss: 1.2880 - val_accuracy: 0.5640\n"
     ]
    }
   ],
   "source": [
    "history2 = model2.fit_generator(\n",
    "train_generator,\n",
    "steps_per_epoch=200,\n",
    "epochs=40,\n",
    "validation_data=validation_generator,\n",
    "validation_steps=50\n",
    ")"
   ]
  },
  {
   "cell_type": "code",
   "execution_count": 14,
   "metadata": {},
   "outputs": [
    {
     "data": {
      "image/png": "[encoded data removed]",
      "text/plain": [
       "<Figure size 432x288 with 1 Axes>"
      ]
     },
     "metadata": {
      "needs_background": "light"
     },
     "output_type": "display_data"
    },
    {
     "data": {
      "image/png": "[encoded data removed]",
      "text/plain": [
       "<Figure size 432x288 with 1 Axes>"
      ]
     },
     "metadata": {
      "needs_background": "light"
     },
     "output_type": "display_data"
    }
   ],
   "source": [
    "acc = history2.history['accuracy']\n",
    "val_acc = history2.history['val_accuracy']\n",
    "loss = history2.history['loss']\n",
    "val_loss = history2.history['val_loss']\n",
    "\n",
    "epochs = range(1, len(acc) + 1)\n",
    "\n",
    "plt.plot(epochs, acc, 'bo', label='Training acc')\n",
    "plt.plot(epochs, val_acc, 'b', label='Validation acc')\n",
    "plt.title('Training and validation accuracy')\n",
    "plt.legend()\n",
    "\n",
    "plt.figure()\n",
    "\n",
    "plt.plot(epochs, loss, 'bo', label='Training loss')\n",
    "plt.plot(epochs, val_loss, 'b', label='Validation loss')\n",
    "plt.title('Training and validation loss')\n",
    "plt.legend()\n",
    "plt.show()"
   ]
  },
  {
   "cell_type": "code",
   "execution_count": 15,
   "metadata": {},
   "outputs": [
    {
     "name": "stdout",
     "output_type": "stream",
     "text": [
      "Test Loss: 1.3712424039840698\n",
      "Test Accuracy:0.5513280630111694\n"
     ]
    }
   ],
   "source": [
    "loss, accuracy = model2.evaluate_generator(test_generator)\n",
    "print(f'Test Loss: {loss}\\nTest Accuracy:{accuracy}')"
   ]
  },
  {
   "cell_type": "markdown",
   "metadata": {},
   "source": [
    "## Model with 80 epochs"
   ]
  },
  {
   "cell_type": "code",
   "execution_count": 16,
   "metadata": {},
   "outputs": [
    {
     "name": "stdout",
     "output_type": "stream",
     "text": [
      "Model: \"sequential_2\"\n",
      "_________________________________________________________________\n",
      "Layer (type)                 Output Shape              Param #   \n",
      "=================================================================\n",
      "conv2d_8 (Conv2D)            (None, 150, 150, 32)      896       \n",
      "_________________________________________________________________\n",
      "max_pooling2d_8 (MaxPooling2 (None, 75, 75, 32)        0         \n",
      "_________________________________________________________________\n",
      "conv2d_9 (Conv2D)            (None, 73, 73, 64)        18496     \n",
      "_________________________________________________________________\n",
      "max_pooling2d_9 (MaxPooling2 (None, 36, 36, 64)        0         \n",
      "_________________________________________________________________\n",
      "conv2d_10 (Conv2D)           (None, 34, 34, 128)       73856     \n",
      "_________________________________________________________________\n",
      "max_pooling2d_10 (MaxPooling (None, 17, 17, 128)       0         \n",
      "_________________________________________________________________\n",
      "conv2d_11 (Conv2D)           (None, 15, 15, 128)       147584    \n",
      "_________________________________________________________________\n",
      "max_pooling2d_11 (MaxPooling (None, 7, 7, 128)         0         \n",
      "_________________________________________________________________\n",
      "flatten_2 (Flatten)          (None, 6272)              0         \n",
      "_________________________________________________________________\n",
      "dense_4 (Dense)              (None, 512)               3211776   \n",
      "_________________________________________________________________\n",
      "dense_5 (Dense)              (None, 14)                7182      \n",
      "=================================================================\n",
      "Total params: 3,459,790\n",
      "Trainable params: 3,459,790\n",
      "Non-trainable params: 0\n",
      "_________________________________________________________________\n"
     ]
    }
   ],
   "source": [
    "#build covnet\n",
    "model80 = models.Sequential()\n",
    "model80.add(layers.Conv2D(32, (3, 3), activation='relu', padding='same',input_shape=(150, 150, 3)))\n",
    "# model.add(layers.Conv2D(32, (3, 3), activation='relu', padding='same'))\n",
    "model80.add(layers.MaxPooling2D((2, 2)))\n",
    "model80.add(layers.Conv2D(64, (3, 3), activation='relu'))\n",
    "# model.add(layers.Conv2D(64, (3, 3), activation='relu', padding='same'))\n",
    "model80.add(layers.MaxPooling2D((2, 2)))\n",
    "model80.add(layers.Conv2D(128, (3, 3), activation='relu'))\n",
    "model80.add(layers.MaxPooling2D((2, 2)))\n",
    "model80.add(layers.Conv2D(128, (3, 3), activation='relu'))\n",
    "model80.add(layers.MaxPooling2D((2, 2)))\n",
    "model80.add(layers.Flatten())\n",
    "model80.add(layers.Dense(512, activation='relu'))\n",
    "model80.add(layers.Dense(14, activation='softmax'))\n",
    "\n",
    "model80.compile(loss='categorical_crossentropy', optimizer=optimizers.RMSprop(lr=1e-4), metrics=['accuracy'])\n",
    "model80.summary()"
   ]
  },
  {
   "cell_type": "code",
   "execution_count": 17,
   "metadata": {
    "scrolled": true
   },
   "outputs": [
    {
     "name": "stdout",
     "output_type": "stream",
     "text": [
      "Epoch 1/80\n",
      "200/200 [==============================] - 79s 388ms/step - loss: 2.6030 - accuracy: 0.1014 - val_loss: 2.2476 - val_accuracy: 0.2420\n",
      "Epoch 2/80\n",
      "200/200 [==============================] - 81s 407ms/step - loss: 2.2804 - accuracy: 0.1912 - val_loss: 2.0830 - val_accuracy: 0.2680\n",
      "Epoch 3/80\n",
      "200/200 [==============================] - 74s 370ms/step - loss: 2.1303 - accuracy: 0.2551 - val_loss: 1.9537 - val_accuracy: 0.3420\n",
      "Epoch 4/80\n",
      "200/200 [==============================] - 77s 384ms/step - loss: 2.0223 - accuracy: 0.3095 - val_loss: 2.1934 - val_accuracy: 0.2420\n",
      "Epoch 5/80\n",
      "200/200 [==============================] - 72s 357ms/step - loss: 1.9772 - accuracy: 0.3218 - val_loss: 1.9096 - val_accuracy: 0.3500\n",
      "Epoch 6/80\n",
      "200/200 [==============================] - 71s 354ms/step - loss: 1.9270 - accuracy: 0.3258 - val_loss: 1.9982 - val_accuracy: 0.2960\n",
      "Epoch 7/80\n",
      "200/200 [==============================] - 78s 388ms/step - loss: 1.8423 - accuracy: 0.3670 - val_loss: 1.7279 - val_accuracy: 0.4060\n",
      "Epoch 8/80\n",
      "200/200 [==============================] - 74s 368ms/step - loss: 1.7891 - accuracy: 0.3900 - val_loss: 1.6808 - val_accuracy: 0.4140\n",
      "Epoch 9/80\n",
      "200/200 [==============================] - 71s 356ms/step - loss: 1.7639 - accuracy: 0.4014 - val_loss: 1.7199 - val_accuracy: 0.4300\n",
      "Epoch 10/80\n",
      "200/200 [==============================] - 75s 372ms/step - loss: 1.7148 - accuracy: 0.4335 - val_loss: 1.7385 - val_accuracy: 0.4420\n",
      "Epoch 11/80\n",
      "200/200 [==============================] - 76s 379ms/step - loss: 1.7353 - accuracy: 0.4165 - val_loss: 1.7216 - val_accuracy: 0.4000\n",
      "Epoch 12/80\n",
      "200/200 [==============================] - 75s 372ms/step - loss: 1.6591 - accuracy: 0.4384 - val_loss: 1.6918 - val_accuracy: 0.4240\n",
      "Epoch 13/80\n",
      "200/200 [==============================] - 76s 379ms/step - loss: 1.6510 - accuracy: 0.4504 - val_loss: 1.5363 - val_accuracy: 0.4760\n",
      "Epoch 14/80\n",
      "200/200 [==============================] - 77s 382ms/step - loss: 1.6067 - accuracy: 0.4537 - val_loss: 1.5615 - val_accuracy: 0.4820\n",
      "Epoch 15/80\n",
      "200/200 [==============================] - 71s 356ms/step - loss: 1.5965 - accuracy: 0.4678 - val_loss: 1.5427 - val_accuracy: 0.4560\n",
      "Epoch 16/80\n",
      "200/200 [==============================] - 72s 357ms/step - loss: 1.5769 - accuracy: 0.4719 - val_loss: 1.5960 - val_accuracy: 0.4900\n",
      "Epoch 17/80\n",
      "200/200 [==============================] - 81s 405ms/step - loss: 1.5462 - accuracy: 0.4826 - val_loss: 1.4772 - val_accuracy: 0.4940\n",
      "Epoch 18/80\n",
      "200/200 [==============================] - 80s 399ms/step - loss: 1.5162 - accuracy: 0.4991 - val_loss: 1.6152 - val_accuracy: 0.4580\n",
      "Epoch 19/80\n",
      "200/200 [==============================] - 79s 395ms/step - loss: 1.5083 - accuracy: 0.5009 - val_loss: 1.5918 - val_accuracy: 0.4900\n",
      "Epoch 20/80\n",
      "200/200 [==============================] - 74s 369ms/step - loss: 1.5013 - accuracy: 0.4943 - val_loss: 1.5253 - val_accuracy: 0.4740\n",
      "Epoch 21/80\n",
      "200/200 [==============================] - 74s 368ms/step - loss: 1.4888 - accuracy: 0.5091 - val_loss: 1.4051 - val_accuracy: 0.5280\n",
      "Epoch 22/80\n",
      "200/200 [==============================] - 73s 363ms/step - loss: 1.4660 - accuracy: 0.5203 - val_loss: 1.4292 - val_accuracy: 0.5300\n",
      "Epoch 23/80\n",
      "200/200 [==============================] - 74s 371ms/step - loss: 1.4655 - accuracy: 0.5190 - val_loss: 1.3566 - val_accuracy: 0.5340\n",
      "Epoch 24/80\n",
      "200/200 [==============================] - 72s 361ms/step - loss: 1.4534 - accuracy: 0.5202 - val_loss: 1.5177 - val_accuracy: 0.4840\n",
      "Epoch 25/80\n",
      "200/200 [==============================] - 73s 363ms/step - loss: 1.4336 - accuracy: 0.5146 - val_loss: 1.3985 - val_accuracy: 0.5500\n",
      "Epoch 26/80\n",
      "200/200 [==============================] - 73s 363ms/step - loss: 1.3877 - accuracy: 0.5362 - val_loss: 1.4964 - val_accuracy: 0.5360\n",
      "Epoch 27/80\n",
      "200/200 [==============================] - 72s 361ms/step - loss: 1.3650 - accuracy: 0.5433 - val_loss: 1.5117 - val_accuracy: 0.5380\n",
      "Epoch 28/80\n",
      "200/200 [==============================] - 73s 364ms/step - loss: 1.4072 - accuracy: 0.5348 - val_loss: 1.4057 - val_accuracy: 0.5080\n",
      "Epoch 29/80\n",
      "200/200 [==============================] - 73s 366ms/step - loss: 1.3311 - accuracy: 0.5429 - val_loss: 1.3114 - val_accuracy: 0.5660\n",
      "Epoch 30/80\n",
      "200/200 [==============================] - 73s 366ms/step - loss: 1.3788 - accuracy: 0.5358 - val_loss: 1.4788 - val_accuracy: 0.5260\n",
      "Epoch 31/80\n",
      "200/200 [==============================] - 73s 366ms/step - loss: 1.3276 - accuracy: 0.5533 - val_loss: 1.3556 - val_accuracy: 0.5520\n",
      "Epoch 32/80\n",
      "200/200 [==============================] - 74s 367ms/step - loss: 1.3479 - accuracy: 0.5526 - val_loss: 1.4744 - val_accuracy: 0.5640\n",
      "Epoch 33/80\n",
      "200/200 [==============================] - 74s 367ms/step - loss: 1.3488 - accuracy: 0.5511 - val_loss: 1.5704 - val_accuracy: 0.4900\n",
      "Epoch 34/80\n",
      "200/200 [==============================] - 74s 368ms/step - loss: 1.3308 - accuracy: 0.5393 - val_loss: 1.3558 - val_accuracy: 0.5540\n",
      "Epoch 35/80\n",
      "200/200 [==============================] - 74s 370ms/step - loss: 1.3235 - accuracy: 0.5564 - val_loss: 1.5085 - val_accuracy: 0.5080\n",
      "Epoch 36/80\n",
      "200/200 [==============================] - 74s 372ms/step - loss: 1.2830 - accuracy: 0.5699 - val_loss: 1.3765 - val_accuracy: 0.5660\n",
      "Epoch 37/80\n",
      "200/200 [==============================] - 74s 369ms/step - loss: 1.2654 - accuracy: 0.5800 - val_loss: 1.3739 - val_accuracy: 0.5400\n",
      "Epoch 38/80\n",
      "200/200 [==============================] - 74s 370ms/step - loss: 1.2639 - accuracy: 0.5734 - val_loss: 1.3890 - val_accuracy: 0.5740\n",
      "Epoch 39/80\n",
      "200/200 [==============================] - 74s 369ms/step - loss: 1.2383 - accuracy: 0.5914 - val_loss: 1.4782 - val_accuracy: 0.5320\n",
      "Epoch 40/80\n",
      "200/200 [==============================] - 74s 370ms/step - loss: 1.2538 - accuracy: 0.5841 - val_loss: 1.4455 - val_accuracy: 0.5480\n",
      "Epoch 41/80\n",
      "200/200 [==============================] - 74s 369ms/step - loss: 1.2311 - accuracy: 0.5844 - val_loss: 1.2580 - val_accuracy: 0.5960\n",
      "Epoch 42/80\n",
      "200/200 [==============================] - 73s 367ms/step - loss: 1.2357 - accuracy: 0.5868 - val_loss: 1.3358 - val_accuracy: 0.5720\n",
      "Epoch 43/80\n",
      "200/200 [==============================] - 74s 371ms/step - loss: 1.1650 - accuracy: 0.6149 - val_loss: 1.5234 - val_accuracy: 0.5180\n",
      "Epoch 44/80\n",
      "200/200 [==============================] - 74s 369ms/step - loss: 1.1302 - accuracy: 0.6196 - val_loss: 1.3181 - val_accuracy: 0.5700\n",
      "Epoch 45/80\n",
      "200/200 [==============================] - 75s 374ms/step - loss: 1.2124 - accuracy: 0.5990 - val_loss: 1.3013 - val_accuracy: 0.5940\n",
      "Epoch 46/80\n",
      "200/200 [==============================] - 75s 374ms/step - loss: 1.1536 - accuracy: 0.6172 - val_loss: 1.2776 - val_accuracy: 0.5760\n",
      "Epoch 47/80\n",
      "200/200 [==============================] - 78s 390ms/step - loss: 1.1521 - accuracy: 0.6152 - val_loss: 1.3751 - val_accuracy: 0.5740\n",
      "Epoch 48/80\n",
      "200/200 [==============================] - 76s 380ms/step - loss: 1.1360 - accuracy: 0.6204 - val_loss: 1.2297 - val_accuracy: 0.6040\n",
      "Epoch 49/80\n",
      "200/200 [==============================] - 75s 374ms/step - loss: 1.1694 - accuracy: 0.6134 - val_loss: 1.5276 - val_accuracy: 0.5520\n",
      "Epoch 50/80\n",
      "200/200 [==============================] - 86s 428ms/step - loss: 1.1064 - accuracy: 0.6207 - val_loss: 1.3229 - val_accuracy: 0.5980\n",
      "Epoch 51/80\n",
      "200/200 [==============================] - 86s 432ms/step - loss: 1.1362 - accuracy: 0.6297 - val_loss: 1.4344 - val_accuracy: 0.5740\n",
      "Epoch 52/80\n",
      "200/200 [==============================] - 85s 423ms/step - loss: 1.1390 - accuracy: 0.6268 - val_loss: 1.3682 - val_accuracy: 0.5640\n",
      "Epoch 53/80\n",
      "200/200 [==============================] - 87s 432ms/step - loss: 1.0877 - accuracy: 0.6325 - val_loss: 1.2129 - val_accuracy: 0.6060\n",
      "Epoch 54/80\n",
      "200/200 [==============================] - 76s 380ms/step - loss: 1.1217 - accuracy: 0.6382 - val_loss: 1.1036 - val_accuracy: 0.6600\n",
      "Epoch 55/80\n",
      "200/200 [==============================] - 77s 385ms/step - loss: 1.0854 - accuracy: 0.6419 - val_loss: 1.2470 - val_accuracy: 0.6380\n",
      "Epoch 56/80\n",
      "200/200 [==============================] - 78s 387ms/step - loss: 1.0681 - accuracy: 0.6400 - val_loss: 1.2764 - val_accuracy: 0.6300\n",
      "Epoch 57/80\n"
     ]
    },
    {
     "name": "stdout",
     "output_type": "stream",
     "text": [
      "200/200 [==============================] - 84s 420ms/step - loss: 1.0626 - accuracy: 0.6383 - val_loss: 1.5870 - val_accuracy: 0.5600\n",
      "Epoch 58/80\n",
      "200/200 [==============================] - 82s 409ms/step - loss: 1.0779 - accuracy: 0.6287 - val_loss: 1.4308 - val_accuracy: 0.5720\n",
      "Epoch 59/80\n",
      "200/200 [==============================] - 79s 395ms/step - loss: 1.0554 - accuracy: 0.6486 - val_loss: 1.3025 - val_accuracy: 0.5940\n",
      "Epoch 60/80\n",
      "200/200 [==============================] - 85s 422ms/step - loss: 1.0501 - accuracy: 0.6487 - val_loss: 1.5057 - val_accuracy: 0.5620\n",
      "Epoch 61/80\n",
      "200/200 [==============================] - 83s 413ms/step - loss: 1.0452 - accuracy: 0.6572 - val_loss: 1.3111 - val_accuracy: 0.5940\n",
      "Epoch 62/80\n",
      "200/200 [==============================] - 83s 416ms/step - loss: 1.0236 - accuracy: 0.6627 - val_loss: 1.3486 - val_accuracy: 0.5880\n",
      "Epoch 63/80\n",
      "200/200 [==============================] - 82s 408ms/step - loss: 1.0486 - accuracy: 0.6705 - val_loss: 1.5002 - val_accuracy: 0.5920\n",
      "Epoch 64/80\n",
      "200/200 [==============================] - 78s 390ms/step - loss: 1.0223 - accuracy: 0.6647 - val_loss: 1.2023 - val_accuracy: 0.5960\n",
      "Epoch 65/80\n",
      "200/200 [==============================] - 76s 382ms/step - loss: 0.9981 - accuracy: 0.6647 - val_loss: 1.3823 - val_accuracy: 0.6320\n",
      "Epoch 66/80\n",
      "200/200 [==============================] - 78s 389ms/step - loss: 0.9776 - accuracy: 0.6726 - val_loss: 1.2617 - val_accuracy: 0.5980\n",
      "Epoch 67/80\n",
      "200/200 [==============================] - 75s 376ms/step - loss: 0.9815 - accuracy: 0.6793 - val_loss: 1.3802 - val_accuracy: 0.6040\n",
      "Epoch 68/80\n",
      "200/200 [==============================] - 76s 377ms/step - loss: 0.9873 - accuracy: 0.6756 - val_loss: 1.2848 - val_accuracy: 0.5880\n",
      "Epoch 69/80\n",
      "200/200 [==============================] - 77s 382ms/step - loss: 0.9787 - accuracy: 0.6712 - val_loss: 1.0931 - val_accuracy: 0.6880\n",
      "Epoch 70/80\n",
      "200/200 [==============================] - 77s 382ms/step - loss: 0.9597 - accuracy: 0.6931 - val_loss: 1.1528 - val_accuracy: 0.6540\n",
      "Epoch 71/80\n",
      "200/200 [==============================] - 75s 374ms/step - loss: 0.9718 - accuracy: 0.6748 - val_loss: 1.2906 - val_accuracy: 0.6120\n",
      "Epoch 72/80\n",
      "200/200 [==============================] - 75s 374ms/step - loss: 0.9581 - accuracy: 0.6807 - val_loss: 1.1998 - val_accuracy: 0.6440\n",
      "Epoch 73/80\n",
      "200/200 [==============================] - 76s 379ms/step - loss: 0.9715 - accuracy: 0.6832 - val_loss: 1.1524 - val_accuracy: 0.6560\n",
      "Epoch 74/80\n",
      "200/200 [==============================] - 75s 375ms/step - loss: 0.9451 - accuracy: 0.6811 - val_loss: 1.4758 - val_accuracy: 0.5840\n",
      "Epoch 75/80\n",
      "200/200 [==============================] - 75s 377ms/step - loss: 0.9274 - accuracy: 0.6843 - val_loss: 1.4161 - val_accuracy: 0.6040\n",
      "Epoch 76/80\n",
      "200/200 [==============================] - 75s 373ms/step - loss: 0.9522 - accuracy: 0.6909 - val_loss: 1.1033 - val_accuracy: 0.6680\n",
      "Epoch 77/80\n",
      "200/200 [==============================] - 75s 373ms/step - loss: 0.9020 - accuracy: 0.7032 - val_loss: 1.3140 - val_accuracy: 0.6460\n",
      "Epoch 78/80\n",
      "200/200 [==============================] - 75s 374ms/step - loss: 0.8949 - accuracy: 0.7005 - val_loss: 1.3258 - val_accuracy: 0.6060\n",
      "Epoch 79/80\n",
      "200/200 [==============================] - 75s 373ms/step - loss: 0.8617 - accuracy: 0.7136 - val_loss: 1.3360 - val_accuracy: 0.6260\n",
      "Epoch 80/80\n",
      "200/200 [==============================] - 76s 377ms/step - loss: 0.8850 - accuracy: 0.7033 - val_loss: 1.2014 - val_accuracy: 0.6680\n"
     ]
    }
   ],
   "source": [
    "history80 = model80.fit_generator(\n",
    "train_generator,\n",
    "steps_per_epoch=200,\n",
    "epochs=80,\n",
    "validation_data=validation_generator,\n",
    "validation_steps=50\n",
    ")"
   ]
  },
  {
   "cell_type": "code",
   "execution_count": 18,
   "metadata": {},
   "outputs": [
    {
     "data": {
      "image/png": "[encoded data removed]",
      "text/plain": [
       "<Figure size 432x288 with 1 Axes>"
      ]
     },
     "metadata": {
      "needs_background": "light"
     },
     "output_type": "display_data"
    },
    {
     "data": {
      "image/png": "[encoded data removed]",
      "text/plain": [
       "<Figure size 432x288 with 1 Axes>"
      ]
     },
     "metadata": {
      "needs_background": "light"
     },
     "output_type": "display_data"
    }
   ],
   "source": [
    "acc = history80.history['accuracy']\n",
    "val_acc = history80.history['val_accuracy']\n",
    "loss = history80.history['loss']\n",
    "val_loss = history80.history['val_loss']\n",
    "\n",
    "epochs = range(1, len(acc) + 1)\n",
    "\n",
    "plt.plot(epochs, acc, 'bo', label='Training acc')\n",
    "plt.plot(epochs, val_acc, 'b', label='Validation acc')\n",
    "plt.title('Training and validation accuracy')\n",
    "plt.legend()\n",
    "\n",
    "plt.figure()\n",
    "\n",
    "plt.plot(epochs, loss, 'bo', label='Training loss')\n",
    "plt.plot(epochs, val_loss, 'b', label='Validation loss')\n",
    "plt.title('Training and validation loss')\n",
    "plt.legend()\n",
    "plt.show()"
   ]
  },
  {
   "cell_type": "code",
   "execution_count": 35,
   "metadata": {},
   "outputs": [
    {
     "name": "stdout",
     "output_type": "stream",
     "text": [
      "Found 1393 images belonging to 14 classes.\n"
     ]
    },
    {
     "name": "stderr",
     "output_type": "stream",
     "text": [
      "C:\\Users\\loosm\\AppData\\Roaming\\Python\\Python38\\site-packages\\tensorflow\\python\\keras\\engine\\training.py:1877: UserWarning: `Model.evaluate_generator` is deprecated and will be removed in a future version. Please use `Model.evaluate`, which supports generators.\n",
      "  warnings.warn('`Model.evaluate_generator` is deprecated and '\n"
     ]
    },
    {
     "name": "stdout",
     "output_type": "stream",
     "text": [
      "Test Loss: 1.3677349090576172\n",
      "Test Accuracy:0.612347424030304\n"
     ]
    }
   ],
   "source": [
    "test_generator = test_datagen.flow_from_directory(\n",
    "    test_dir,\n",
    "    target_size=(150, 150),\n",
    "    batch_size=10,\n",
    "    class_mode='categorical')\n",
    "\n",
    "loss, accuracy = model80.evaluate(test_generator)\n",
    "print(f'Test Loss: {loss}\\nTest Accuracy:{accuracy}')"
   ]
  },
  {
   "cell_type": "markdown",
   "metadata": {},
   "source": [
    "## Analysis of Model"
   ]
  },
  {
   "cell_type": "code",
   "execution_count": 95,
   "metadata": {},
   "outputs": [
    {
     "name": "stdout",
     "output_type": "stream",
     "text": [
      "Found 1393 images belonging to 14 classes.\n",
      "Confusion Matrix\n",
      "[[82  3  1  1  1  0  3  0  3  2  0  0  3  1]\n",
      " [ 1 43  0  7  2  0  0 10  1  8  1  1 18  8]\n",
      " [ 1  0 85  2  0  1  1  1  2  0  4  3  0  0]\n",
      " [ 5  4  4 61  1  2  3  3  1  1  2  1  7  3]\n",
      " [ 1  1  7  0 83  0  0  0  1  0  1  5  1  0]\n",
      " [ 0  1  0  0  2 82  1  0  1  1  2  5  4  1]\n",
      " [ 2  0  8  3  4  1 73  0  1  0  0  7  0  0]\n",
      " [ 1  7  0  9  0  1  3 34  2  9  1  0 17 10]\n",
      " [ 3  3  0  0  1  1  0  0 67  0 14  6  1  2]\n",
      " [11  3  0 13  1  1  2  6  0 50  0  0 10  3]\n",
      " [ 1  2  4  0  1  3  1  2  9  1 77  3  0  0]\n",
      " [ 2  0  8  0  3  3  1  0  4  0 12 61  5  1]\n",
      " [ 2  9  1 12  2  2  0  6  2  5  3  2 49  5]\n",
      " [ 0  9  0  8  0  1  5 14  2 17  1  1 13 29]]\n",
      "Classification Report\n",
      "              precision    recall  f1-score   support\n",
      "\n",
      "    Illinois       0.73      0.82      0.77       100\n",
      "     Indiana       0.51      0.43      0.46       100\n",
      "        Iowa       0.72      0.85      0.78       100\n",
      "    Maryland       0.53      0.62      0.57        98\n",
      "    Michigan       0.82      0.83      0.83       100\n",
      " Michigan St       0.84      0.82      0.83       100\n",
      "   Minnesota       0.78      0.74      0.76        99\n",
      "    Nebraska       0.45      0.36      0.40        94\n",
      "Northwestern       0.70      0.68      0.69        98\n",
      "     Ohio St       0.53      0.50      0.52       100\n",
      "     Penn St       0.65      0.74      0.69       104\n",
      "      Purdue       0.64      0.61      0.63       100\n",
      "     Rutgers       0.38      0.49      0.43       100\n",
      "   Wisconsin       0.46      0.29      0.36       100\n",
      "\n",
      "    accuracy                           0.63      1393\n",
      "   macro avg       0.62      0.63      0.62      1393\n",
      "weighted avg       0.63      0.63      0.62      1393\n",
      "\n",
      "0.6288585786073223\n",
      "876\n"
     ]
    },
    {
     "data": {
      "text/plain": [
       "array([0.82      , 0.43      , 0.85      , 0.62244898, 0.83      ,\n",
       "       0.82      , 0.73737374, 0.36170213, 0.68367347, 0.5       ,\n",
       "       0.74038462, 0.61      , 0.49      , 0.29      ])"
      ]
     },
     "execution_count": 95,
     "metadata": {},
     "output_type": "execute_result"
    }
   ],
   "source": [
    "import numpy as np\n",
    "from sklearn.metrics import classification_report, confusion_matrix, accuracy_score\n",
    "\n",
    "\n",
    "test_generator = test_datagen.flow_from_directory(\n",
    "    test_dir,\n",
    "    target_size=(150, 150),\n",
    "    batch_size=10,\n",
    "    class_mode='categorical',\n",
    "    shuffle=False)\n",
    "\n",
    "#Confution Matrix and Classification Report\n",
    "Y_pred = model.predict_generator(test_generator)\n",
    "y_pred = np.argmax(Y_pred, axis=1)\n",
    "print('Confusion Matrix')\n",
    "matrix = confusion_matrix(test_generator.classes, y_pred)\n",
    "print(matrix)\n",
    "print('Classification Report')\n",
    "target_names = ['Illinois','Indiana','Iowa','Maryland','Michigan','Michigan St','Minnesota',\n",
    "                'Nebraska','Northwestern','Ohio St','Penn St','Purdue','Rutgers', 'Wisconsin']\n",
    "print(classification_report(test_generator.classes, y_pred, target_names=target_names))\n",
    "print(accuracy_score(test_generator.classes, y_pred))\n",
    "print(accuracy_score(test_generator.classes, y_pred, normalize=False))\n",
    "\n",
    "matrix.diagonal()/matrix.sum(axis=1)"
   ]
  },
  {
   "cell_type": "code",
   "execution_count": 115,
   "metadata": {},
   "outputs": [],
   "source": [
    "import pandas as pd\n",
    "import matplotlib.pyplot as plt\n",
    "import seaborn as sns\n",
    "\n",
    "target_names = ['Illinois','Indiana','Iowa','Maryland','Michigan','Michigan St','Minnesota',\n",
    "                'Nebraska','Northwestern','Ohio St','Penn St','Purdue','Rutgers', 'Wisconsin']\n",
    "\n",
    "accuracy = [0.8201, 0.43, 0.85, 0.62, 0.83, 0.82, 0.7401, 0.36, 0.68, 0.5,0.74, 0.61, 0.49, 0.29]\n",
    "\n",
    "d = {'Team':target_names,'Accuracy':accuracy}\n",
    "df = pd.DataFrame(d, columns=['Team','Accuracy'])"
   ]
  },
  {
   "cell_type": "code",
   "execution_count": 130,
   "metadata": {},
   "outputs": [
    {
     "data": {
      "image/png": "[encoded data removed]",
      "text/plain": [
       "<Figure size 432x288 with 1 Axes>"
      ]
     },
     "metadata": {
      "needs_background": "light"
     },
     "output_type": "display_data"
    }
   ],
   "source": [
    "ax = sns.barplot(x='Accuracy', y='Team', data=df)\n",
    "for bar in ax.patches:\n",
    "    if bar.get_width() == 0.43 or bar.get_width() == 0.62 or bar.get_width() == 0.32 or bar.get_width() == 0.36 or bar.get_width() == 0.5 or bar.get_width() == 0.49 or bar.get_width() == 0.29:\n",
    "        bar.set_color('#d00000')   \n",
    "    elif bar.get_width() == 0.83 or bar.get_width() == 0.74:\n",
    "        bar.set_color('#00274C')   \n",
    "    elif bar.get_width() == 0.74:\n",
    "        bar.set_color('#041E42') \n",
    "    elif bar.get_width() == 0.82:\n",
    "        bar.set_color('#18453B')   \n",
    "    elif bar.get_width() == 0.8201:\n",
    "        bar.set_color('#E84A27')   \n",
    "    elif bar.get_width() == 0.85:\n",
    "        bar.set_color('#FFCD00')  \n",
    "    elif bar.get_width() == 0.7401:\n",
    "        bar.set_color('#7A0019')  \n",
    "    elif bar.get_width() == 0.68:\n",
    "        bar.set_color('#4E2A84')  \n",
    "    elif bar.get_width() == 0.61:\n",
    "        bar.set_color('#CEB888') \n",
    "    else:\n",
    "        bar.set_color('grey')\n",
    "plt.title('Accuracy of Predictions by Team')\n",
    "plt.show()"
   ]
  },
  {
   "cell_type": "code",
   "execution_count": null,
   "metadata": {},
   "outputs": [],
   "source": []
  }
 ],
 "metadata": {
  "kernelspec": {
   "display_name": "Python 3",
   "language": "python",
   "name": "python3"
  },
  "language_info": {
   "codemirror_mode": {
    "name": "ipython",
    "version": 3
   },
   "file_extension": ".py",
   "mimetype": "text/x-python",
   "name": "python",
   "nbconvert_exporter": "python",
   "pygments_lexer": "ipython3",
   "version": "3.8.3"
  }
 },
 "nbformat": 4,
 "nbformat_minor": 4
}
