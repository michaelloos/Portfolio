{
 "cells": [
  {
   "cell_type": "code",
   "execution_count": 1,
   "metadata": {},
   "outputs": [],
   "source": [
    "from __future__ import print_function, division\n",
    "\n",
    "%matplotlib inline\n",
    "\n",
    "import numpy as np\n",
    "import pandas as pd\n",
    "import statsmodels.formula.api as smf\n",
    "import random\n",
    "from normal import Normal\n",
    "\n",
    "import thinkstats2\n",
    "import thinkplot"
   ]
  },
  {
   "cell_type": "code",
   "execution_count": 2,
   "metadata": {},
   "outputs": [
    {
     "data": {
      "text/html": [
       "<div>\n",
       "<style scoped>\n",
       "    .dataframe tbody tr th:only-of-type {\n",
       "        vertical-align: middle;\n",
       "    }\n",
       "\n",
       "    .dataframe tbody tr th {\n",
       "        vertical-align: top;\n",
       "    }\n",
       "\n",
       "    .dataframe thead th {\n",
       "        text-align: right;\n",
       "    }\n",
       "</style>\n",
       "<table border=\"1\" class=\"dataframe\">\n",
       "  <thead>\n",
       "    <tr style=\"text-align: right;\">\n",
       "      <th></th>\n",
       "      <th>imdb_title_id</th>\n",
       "      <th>title</th>\n",
       "      <th>original_title</th>\n",
       "      <th>year</th>\n",
       "      <th>date_published</th>\n",
       "      <th>genre</th>\n",
       "      <th>duration</th>\n",
       "      <th>country</th>\n",
       "      <th>language</th>\n",
       "      <th>director</th>\n",
       "      <th>...</th>\n",
       "      <th>actors</th>\n",
       "      <th>description</th>\n",
       "      <th>avg_vote</th>\n",
       "      <th>votes</th>\n",
       "      <th>budget</th>\n",
       "      <th>usa_gross_income</th>\n",
       "      <th>worlwide_gross_income</th>\n",
       "      <th>metascore</th>\n",
       "      <th>reviews_from_users</th>\n",
       "      <th>reviews_from_critics</th>\n",
       "    </tr>\n",
       "  </thead>\n",
       "  <tbody>\n",
       "    <tr>\n",
       "      <th>0</th>\n",
       "      <td>tt0000574</td>\n",
       "      <td>The Story of the Kelly Gang</td>\n",
       "      <td>The Story of the Kelly Gang</td>\n",
       "      <td>1906</td>\n",
       "      <td>1906-12-26</td>\n",
       "      <td>Biography, Crime, Drama</td>\n",
       "      <td>70</td>\n",
       "      <td>Australia</td>\n",
       "      <td>NaN</td>\n",
       "      <td>Charles Tait</td>\n",
       "      <td>...</td>\n",
       "      <td>Elizabeth Tait, John Tait, Norman Campbell, Be...</td>\n",
       "      <td>True story of notorious Australian outlaw Ned ...</td>\n",
       "      <td>6.1</td>\n",
       "      <td>537</td>\n",
       "      <td>$ 2250</td>\n",
       "      <td>0</td>\n",
       "      <td>NaN</td>\n",
       "      <td>NaN</td>\n",
       "      <td>7.0</td>\n",
       "      <td>7.0</td>\n",
       "    </tr>\n",
       "    <tr>\n",
       "      <th>1</th>\n",
       "      <td>tt0001892</td>\n",
       "      <td>Den sorte drøm</td>\n",
       "      <td>Den sorte drøm</td>\n",
       "      <td>1911</td>\n",
       "      <td>1911-08-19</td>\n",
       "      <td>Drama</td>\n",
       "      <td>53</td>\n",
       "      <td>Germany, Denmark</td>\n",
       "      <td>NaN</td>\n",
       "      <td>Urban Gad</td>\n",
       "      <td>...</td>\n",
       "      <td>Asta Nielsen, Valdemar Psilander, Gunnar Helse...</td>\n",
       "      <td>Two men of high rank are both wooing the beaut...</td>\n",
       "      <td>5.9</td>\n",
       "      <td>171</td>\n",
       "      <td>NaN</td>\n",
       "      <td>0</td>\n",
       "      <td>NaN</td>\n",
       "      <td>NaN</td>\n",
       "      <td>4.0</td>\n",
       "      <td>2.0</td>\n",
       "    </tr>\n",
       "    <tr>\n",
       "      <th>2</th>\n",
       "      <td>tt0002101</td>\n",
       "      <td>Cleopatra</td>\n",
       "      <td>Cleopatra</td>\n",
       "      <td>1912</td>\n",
       "      <td>1912-11-13</td>\n",
       "      <td>Drama, History</td>\n",
       "      <td>100</td>\n",
       "      <td>USA</td>\n",
       "      <td>English</td>\n",
       "      <td>Charles L. Gaskill</td>\n",
       "      <td>...</td>\n",
       "      <td>Helen Gardner, Pearl Sindelar, Miss Fielding, ...</td>\n",
       "      <td>The fabled queen of Egypt's affair with Roman ...</td>\n",
       "      <td>5.2</td>\n",
       "      <td>420</td>\n",
       "      <td>$ 45000</td>\n",
       "      <td>0</td>\n",
       "      <td>NaN</td>\n",
       "      <td>NaN</td>\n",
       "      <td>24.0</td>\n",
       "      <td>3.0</td>\n",
       "    </tr>\n",
       "    <tr>\n",
       "      <th>3</th>\n",
       "      <td>tt0002130</td>\n",
       "      <td>L'Inferno</td>\n",
       "      <td>L'Inferno</td>\n",
       "      <td>1911</td>\n",
       "      <td>1911-03-06</td>\n",
       "      <td>Adventure, Drama, Fantasy</td>\n",
       "      <td>68</td>\n",
       "      <td>Italy</td>\n",
       "      <td>Italian</td>\n",
       "      <td>Francesco Bertolini, Adolfo Padovan</td>\n",
       "      <td>...</td>\n",
       "      <td>Salvatore Papa, Arturo Pirovano, Giuseppe de L...</td>\n",
       "      <td>Loosely adapted from Dante's Divine Comedy and...</td>\n",
       "      <td>7.0</td>\n",
       "      <td>2019</td>\n",
       "      <td>NaN</td>\n",
       "      <td>0</td>\n",
       "      <td>NaN</td>\n",
       "      <td>NaN</td>\n",
       "      <td>28.0</td>\n",
       "      <td>14.0</td>\n",
       "    </tr>\n",
       "    <tr>\n",
       "      <th>4</th>\n",
       "      <td>tt0002199</td>\n",
       "      <td>From the Manger to the Cross; or, Jesus of Naz...</td>\n",
       "      <td>From the Manger to the Cross; or, Jesus of Naz...</td>\n",
       "      <td>1912</td>\n",
       "      <td>1913</td>\n",
       "      <td>Biography, Drama</td>\n",
       "      <td>60</td>\n",
       "      <td>USA</td>\n",
       "      <td>English</td>\n",
       "      <td>Sidney Olcott</td>\n",
       "      <td>...</td>\n",
       "      <td>R. Henderson Bland, Percy Dyer, Gene Gauntier,...</td>\n",
       "      <td>An account of the life of Jesus Christ, based ...</td>\n",
       "      <td>5.7</td>\n",
       "      <td>438</td>\n",
       "      <td>NaN</td>\n",
       "      <td>0</td>\n",
       "      <td>NaN</td>\n",
       "      <td>NaN</td>\n",
       "      <td>12.0</td>\n",
       "      <td>5.0</td>\n",
       "    </tr>\n",
       "  </tbody>\n",
       "</table>\n",
       "<p>5 rows × 22 columns</p>\n",
       "</div>"
      ],
      "text/plain": [
       "  imdb_title_id                                              title  \\\n",
       "0     tt0000574                        The Story of the Kelly Gang   \n",
       "1     tt0001892                                     Den sorte drøm   \n",
       "2     tt0002101                                          Cleopatra   \n",
       "3     tt0002130                                          L'Inferno   \n",
       "4     tt0002199  From the Manger to the Cross; or, Jesus of Naz...   \n",
       "\n",
       "                                      original_title  year date_published  \\\n",
       "0                        The Story of the Kelly Gang  1906     1906-12-26   \n",
       "1                                     Den sorte drøm  1911     1911-08-19   \n",
       "2                                          Cleopatra  1912     1912-11-13   \n",
       "3                                          L'Inferno  1911     1911-03-06   \n",
       "4  From the Manger to the Cross; or, Jesus of Naz...  1912           1913   \n",
       "\n",
       "                       genre  duration           country language  \\\n",
       "0    Biography, Crime, Drama        70         Australia      NaN   \n",
       "1                      Drama        53  Germany, Denmark      NaN   \n",
       "2             Drama, History       100               USA  English   \n",
       "3  Adventure, Drama, Fantasy        68             Italy  Italian   \n",
       "4           Biography, Drama        60               USA  English   \n",
       "\n",
       "                              director  ...  \\\n",
       "0                         Charles Tait  ...   \n",
       "1                            Urban Gad  ...   \n",
       "2                   Charles L. Gaskill  ...   \n",
       "3  Francesco Bertolini, Adolfo Padovan  ...   \n",
       "4                        Sidney Olcott  ...   \n",
       "\n",
       "                                              actors  \\\n",
       "0  Elizabeth Tait, John Tait, Norman Campbell, Be...   \n",
       "1  Asta Nielsen, Valdemar Psilander, Gunnar Helse...   \n",
       "2  Helen Gardner, Pearl Sindelar, Miss Fielding, ...   \n",
       "3  Salvatore Papa, Arturo Pirovano, Giuseppe de L...   \n",
       "4  R. Henderson Bland, Percy Dyer, Gene Gauntier,...   \n",
       "\n",
       "                                         description avg_vote votes   budget  \\\n",
       "0  True story of notorious Australian outlaw Ned ...      6.1   537   $ 2250   \n",
       "1  Two men of high rank are both wooing the beaut...      5.9   171      NaN   \n",
       "2  The fabled queen of Egypt's affair with Roman ...      5.2   420  $ 45000   \n",
       "3  Loosely adapted from Dante's Divine Comedy and...      7.0  2019      NaN   \n",
       "4  An account of the life of Jesus Christ, based ...      5.7   438      NaN   \n",
       "\n",
       "   usa_gross_income worlwide_gross_income metascore reviews_from_users  \\\n",
       "0                 0                   NaN       NaN                7.0   \n",
       "1                 0                   NaN       NaN                4.0   \n",
       "2                 0                   NaN       NaN               24.0   \n",
       "3                 0                   NaN       NaN               28.0   \n",
       "4                 0                   NaN       NaN               12.0   \n",
       "\n",
       "   reviews_from_critics  \n",
       "0                   7.0  \n",
       "1                   2.0  \n",
       "2                   3.0  \n",
       "3                  14.0  \n",
       "4                   5.0  \n",
       "\n",
       "[5 rows x 22 columns]"
      ]
     },
     "execution_count": 2,
     "metadata": {},
     "output_type": "execute_result"
    }
   ],
   "source": [
    "#read data set\n",
    "df=pd.read_csv('/Users/stephaniemontgomery/DSC-530 DEA/ThinkStats2-master/IMDb movies4.csv')\n",
    "\n",
    "#replace NAs with 0 in gross income column\n",
    "df.fillna({'usa_gross_income': 0}, inplace=True)\n",
    "df.head()"
   ]
  },
  {
   "cell_type": "code",
   "execution_count": 5,
   "metadata": {},
   "outputs": [
    {
     "data": {
      "text/html": [
       "<div>\n",
       "<style scoped>\n",
       "    .dataframe tbody tr th:only-of-type {\n",
       "        vertical-align: middle;\n",
       "    }\n",
       "\n",
       "    .dataframe tbody tr th {\n",
       "        vertical-align: top;\n",
       "    }\n",
       "\n",
       "    .dataframe thead th {\n",
       "        text-align: right;\n",
       "    }\n",
       "</style>\n",
       "<table border=\"1\" class=\"dataframe\">\n",
       "  <thead>\n",
       "    <tr style=\"text-align: right;\">\n",
       "      <th></th>\n",
       "      <th>imdb_title_id</th>\n",
       "      <th>title</th>\n",
       "      <th>original_title</th>\n",
       "      <th>year</th>\n",
       "      <th>date_published</th>\n",
       "      <th>genre</th>\n",
       "      <th>duration</th>\n",
       "      <th>country</th>\n",
       "      <th>language</th>\n",
       "      <th>director</th>\n",
       "      <th>...</th>\n",
       "      <th>budget</th>\n",
       "      <th>usa_gross_income</th>\n",
       "      <th>worlwide_gross_income</th>\n",
       "      <th>metascore</th>\n",
       "      <th>reviews_from_users</th>\n",
       "      <th>reviews_from_critics</th>\n",
       "      <th>usa2</th>\n",
       "      <th>usa_gross_clean</th>\n",
       "      <th>usa_gross_clean_mil</th>\n",
       "      <th>budget2</th>\n",
       "    </tr>\n",
       "  </thead>\n",
       "  <tbody>\n",
       "    <tr>\n",
       "      <th>0</th>\n",
       "      <td>tt0000574</td>\n",
       "      <td>The Story of the Kelly Gang</td>\n",
       "      <td>The Story of the Kelly Gang</td>\n",
       "      <td>1906</td>\n",
       "      <td>1906-12-26</td>\n",
       "      <td>Biography, Crime, Drama</td>\n",
       "      <td>70</td>\n",
       "      <td>Australia</td>\n",
       "      <td>NaN</td>\n",
       "      <td>Charles Tait</td>\n",
       "      <td>...</td>\n",
       "      <td>$ 2250</td>\n",
       "      <td>0</td>\n",
       "      <td>NaN</td>\n",
       "      <td>NaN</td>\n",
       "      <td>7.0</td>\n",
       "      <td>7.0</td>\n",
       "      <td>0</td>\n",
       "      <td>NaN</td>\n",
       "      <td>NaN</td>\n",
       "      <td>2250.0</td>\n",
       "    </tr>\n",
       "    <tr>\n",
       "      <th>1</th>\n",
       "      <td>tt0001892</td>\n",
       "      <td>Den sorte drøm</td>\n",
       "      <td>Den sorte drøm</td>\n",
       "      <td>1911</td>\n",
       "      <td>1911-08-19</td>\n",
       "      <td>Drama</td>\n",
       "      <td>53</td>\n",
       "      <td>Germany, Denmark</td>\n",
       "      <td>NaN</td>\n",
       "      <td>Urban Gad</td>\n",
       "      <td>...</td>\n",
       "      <td>NaN</td>\n",
       "      <td>0</td>\n",
       "      <td>NaN</td>\n",
       "      <td>NaN</td>\n",
       "      <td>4.0</td>\n",
       "      <td>2.0</td>\n",
       "      <td>0</td>\n",
       "      <td>NaN</td>\n",
       "      <td>NaN</td>\n",
       "      <td>NaN</td>\n",
       "    </tr>\n",
       "    <tr>\n",
       "      <th>2</th>\n",
       "      <td>tt0002101</td>\n",
       "      <td>Cleopatra</td>\n",
       "      <td>Cleopatra</td>\n",
       "      <td>1912</td>\n",
       "      <td>1912-11-13</td>\n",
       "      <td>Drama, History</td>\n",
       "      <td>100</td>\n",
       "      <td>USA</td>\n",
       "      <td>English</td>\n",
       "      <td>Charles L. Gaskill</td>\n",
       "      <td>...</td>\n",
       "      <td>$ 45000</td>\n",
       "      <td>0</td>\n",
       "      <td>NaN</td>\n",
       "      <td>NaN</td>\n",
       "      <td>24.0</td>\n",
       "      <td>3.0</td>\n",
       "      <td>0</td>\n",
       "      <td>NaN</td>\n",
       "      <td>NaN</td>\n",
       "      <td>45000.0</td>\n",
       "    </tr>\n",
       "    <tr>\n",
       "      <th>3</th>\n",
       "      <td>tt0002130</td>\n",
       "      <td>L'Inferno</td>\n",
       "      <td>L'Inferno</td>\n",
       "      <td>1911</td>\n",
       "      <td>1911-03-06</td>\n",
       "      <td>Adventure, Drama, Fantasy</td>\n",
       "      <td>68</td>\n",
       "      <td>Italy</td>\n",
       "      <td>Italian</td>\n",
       "      <td>Francesco Bertolini, Adolfo Padovan</td>\n",
       "      <td>...</td>\n",
       "      <td>NaN</td>\n",
       "      <td>0</td>\n",
       "      <td>NaN</td>\n",
       "      <td>NaN</td>\n",
       "      <td>28.0</td>\n",
       "      <td>14.0</td>\n",
       "      <td>0</td>\n",
       "      <td>NaN</td>\n",
       "      <td>NaN</td>\n",
       "      <td>NaN</td>\n",
       "    </tr>\n",
       "    <tr>\n",
       "      <th>4</th>\n",
       "      <td>tt0002199</td>\n",
       "      <td>From the Manger to the Cross; or, Jesus of Naz...</td>\n",
       "      <td>From the Manger to the Cross; or, Jesus of Naz...</td>\n",
       "      <td>1912</td>\n",
       "      <td>1913</td>\n",
       "      <td>Biography, Drama</td>\n",
       "      <td>60</td>\n",
       "      <td>USA</td>\n",
       "      <td>English</td>\n",
       "      <td>Sidney Olcott</td>\n",
       "      <td>...</td>\n",
       "      <td>NaN</td>\n",
       "      <td>0</td>\n",
       "      <td>NaN</td>\n",
       "      <td>NaN</td>\n",
       "      <td>12.0</td>\n",
       "      <td>5.0</td>\n",
       "      <td>0</td>\n",
       "      <td>NaN</td>\n",
       "      <td>NaN</td>\n",
       "      <td>NaN</td>\n",
       "    </tr>\n",
       "  </tbody>\n",
       "</table>\n",
       "<p>5 rows × 26 columns</p>\n",
       "</div>"
      ],
      "text/plain": [
       "  imdb_title_id                                              title  \\\n",
       "0     tt0000574                        The Story of the Kelly Gang   \n",
       "1     tt0001892                                     Den sorte drøm   \n",
       "2     tt0002101                                          Cleopatra   \n",
       "3     tt0002130                                          L'Inferno   \n",
       "4     tt0002199  From the Manger to the Cross; or, Jesus of Naz...   \n",
       "\n",
       "                                      original_title  year date_published  \\\n",
       "0                        The Story of the Kelly Gang  1906     1906-12-26   \n",
       "1                                     Den sorte drøm  1911     1911-08-19   \n",
       "2                                          Cleopatra  1912     1912-11-13   \n",
       "3                                          L'Inferno  1911     1911-03-06   \n",
       "4  From the Manger to the Cross; or, Jesus of Naz...  1912           1913   \n",
       "\n",
       "                       genre  duration           country language  \\\n",
       "0    Biography, Crime, Drama        70         Australia      NaN   \n",
       "1                      Drama        53  Germany, Denmark      NaN   \n",
       "2             Drama, History       100               USA  English   \n",
       "3  Adventure, Drama, Fantasy        68             Italy  Italian   \n",
       "4           Biography, Drama        60               USA  English   \n",
       "\n",
       "                              director  ...   budget usa_gross_income  \\\n",
       "0                         Charles Tait  ...   $ 2250                0   \n",
       "1                            Urban Gad  ...      NaN                0   \n",
       "2                   Charles L. Gaskill  ...  $ 45000                0   \n",
       "3  Francesco Bertolini, Adolfo Padovan  ...      NaN                0   \n",
       "4                        Sidney Olcott  ...      NaN                0   \n",
       "\n",
       "  worlwide_gross_income metascore  reviews_from_users  reviews_from_critics  \\\n",
       "0                   NaN       NaN                 7.0                   7.0   \n",
       "1                   NaN       NaN                 4.0                   2.0   \n",
       "2                   NaN       NaN                24.0                   3.0   \n",
       "3                   NaN       NaN                28.0                  14.0   \n",
       "4                   NaN       NaN                12.0                   5.0   \n",
       "\n",
       "  usa2 usa_gross_clean usa_gross_clean_mil  budget2  \n",
       "0    0             NaN                 NaN   2250.0  \n",
       "1    0             NaN                 NaN      NaN  \n",
       "2    0             NaN                 NaN  45000.0  \n",
       "3    0             NaN                 NaN      NaN  \n",
       "4    0             NaN                 NaN      NaN  \n",
       "\n",
       "[5 rows x 26 columns]"
      ]
     },
     "execution_count": 5,
     "metadata": {},
     "output_type": "execute_result"
    }
   ],
   "source": [
    "#clean a handful of USA Gross Income fields in other currency\n",
    "df['usa2'] = df['usa_gross_income'].astype(str)\n",
    "na_vals=['EUR 252076','GBP 485300','GBP 438200','GBP 32000','HKD 33397149']\n",
    "df['usa2'] =df['usa2'].str.strip('$ ')\n",
    "df.usa2.replace(na_vals, 0, inplace=True)\n",
    "df.usa2.replace(np.nan, 0, inplace=True)\n",
    "\n",
    "#create new USA Gross Income field as Int and replace 0s with NaN\n",
    "df['usa_gross_clean']=df['usa2'].astype(int)\n",
    "df.usa_gross_clean.replace(0, np.nan, inplace=True)\n",
    "\n",
    "#create field for USA Gross Income in millions\n",
    "df['usa_gross_clean_mil']=df.usa_gross_clean/1000000\n",
    "\n",
    "#create new budget field as float\n",
    "df[\"budget2\"]= df[\"budget\"].replace('[^\\d.]','', regex=True).astype(float)\n",
    "df.head()"
   ]
  },
  {
   "cell_type": "code",
   "execution_count": 18,
   "metadata": {},
   "outputs": [
    {
     "name": "stdout",
     "output_type": "stream",
     "text": [
      "Mean:1993.0072102666322\n",
      "Mode:0    2017\n",
      "dtype: int64\n",
      "Variance:575.6296851901183\n",
      "Std Dev:23.992283867737942\n",
      "\n",
      "Smallest Values:\n",
      "1906 1\n",
      "1911 4\n",
      "1912 5\n",
      "1913 13\n",
      "1914 21\n",
      "1915 21\n",
      "1916 33\n",
      "1917 23\n",
      "1918 23\n",
      "1919 47\n",
      "\n",
      "\n",
      "Largest Values:\n",
      "2019 1567\n",
      "2018 2880\n",
      "2017 3106\n",
      "2016 3033\n",
      "2015 2903\n",
      "2014 2851\n",
      "2013 2749\n",
      "2012 2517\n",
      "2011 2389\n",
      "2010 2253\n"
     ]
    },
    {
     "data": {
      "image/png": "[encoded data removed]",
      "text/plain": [
       "<Figure size 432x288 with 1 Axes>"
      ]
     },
     "metadata": {
      "needs_background": "light"
     },
     "output_type": "display_data"
    }
   ],
   "source": [
    "#create histogram of year\n",
    "hist1 = thinkstats2.Hist(df.year, label='Year')\n",
    "\n",
    "#print mean, mode, variance, and standard deviation\n",
    "print(f'Mean:{df.year.mean()}\\nMode:{df.year.mode()}\\nVariance:{df.year.var()}\\nStd Dev:{df.year.std()}\\n')\n",
    "\n",
    "#print 10 smallest and largest values\n",
    "print('Smallest Values:')\n",
    "for duration, freq in hist1.Smallest(10):\n",
    "    print(duration, freq)\n",
    "print('\\n')\n",
    "print('Largest Values:')\n",
    "for duration, freq in hist1.Largest(10):\n",
    "    print(duration, freq)\n",
    "    \n",
    "#plot histogram\n",
    "thinkplot.Hist(hist1)\n",
    "thinkplot.Config(xlabel='Year', ylabel='Count')"
   ]
  },
  {
   "cell_type": "code",
   "execution_count": 19,
   "metadata": {},
   "outputs": [
    {
     "name": "stdout",
     "output_type": "stream",
     "text": [
      "Mean:100.56598132221033\n",
      "Mode:0    90\n",
      "dtype: int64\n",
      "Variance:641.111950304642\n",
      "Std Dev:25.32018859141144\n",
      "\n",
      "Smallest Values:\n",
      "40 1\n",
      "41 1\n",
      "42 1\n",
      "45 53\n",
      "46 23\n",
      "47 24\n",
      "48 31\n",
      "49 17\n",
      "50 63\n",
      "51 25\n",
      "\n",
      "\n",
      "Largest Values:\n",
      "3360 1\n",
      "808 1\n",
      "729 1\n",
      "632 1\n",
      "580 1\n",
      "540 3\n",
      "485 1\n",
      "450 2\n",
      "442 1\n",
      "422 1\n"
     ]
    },
    {
     "data": {
      "image/png": "[encoded data removed]",
      "text/plain": [
       "<Figure size 432x288 with 1 Axes>"
      ]
     },
     "metadata": {
      "needs_background": "light"
     },
     "output_type": "display_data"
    }
   ],
   "source": [
    "#create histogram of duration\n",
    "hist2 = thinkstats2.Hist(df.duration, label='Duration')\n",
    "\n",
    "#print mean, mode, variance, and standard deviation\n",
    "print(f'Mean:{df.duration.mean()}\\nMode:{df.duration.mode()}\\nVariance:{df.duration.var()}\\nStd Dev:{df.duration.std()}\\n')\n",
    "\n",
    "#print 10 smallest and largest values\n",
    "print('Smallest Values:')\n",
    "for duration, freq in hist2.Smallest(10):\n",
    "    print(duration, freq)\n",
    "print('\\n')\n",
    "print('Largest Values:')\n",
    "for duration, freq in hist2.Largest(10):\n",
    "    print(duration, freq)\n",
    "    \n",
    "#plot histogram    \n",
    "thinkplot.Hist(hist2)\n",
    "thinkplot.Config(xlabel='Duration', \n",
    "                 ylabel='Count',\n",
    "                 xlim=[0,240]\n",
    "                )"
   ]
  },
  {
   "cell_type": "code",
   "execution_count": 20,
   "metadata": {
    "scrolled": false
   },
   "outputs": [
    {
     "name": "stdout",
     "output_type": "stream",
     "text": [
      "Mean:5.926586935390402\n",
      "Mode:0    6.4\n",
      "dtype: float64\n",
      "Variance:1.5458328938625177\n",
      "Std Dev:1.24331528337044\n",
      "\n",
      "Smallest Values:\n",
      "1.0 19\n",
      "1.1 16\n",
      "1.2 23\n",
      "1.3 17\n",
      "1.4 26\n",
      "1.5 34\n",
      "1.6 45\n",
      "1.7 46\n",
      "1.8 56\n",
      "1.9 64\n",
      "\n",
      "\n",
      "Largest Values:\n",
      "10.0 2\n",
      "9.8 1\n",
      "9.7 1\n",
      "9.6 2\n",
      "9.5 3\n",
      "9.4 7\n",
      "9.3 3\n",
      "9.2 13\n",
      "9.1 11\n",
      "9.0 20\n"
     ]
    },
    {
     "data": {
      "image/png": "[encoded data removed]",
      "text/plain": [
       "<Figure size 432x288 with 1 Axes>"
      ]
     },
     "metadata": {
      "needs_background": "light"
     },
     "output_type": "display_data"
    }
   ],
   "source": [
    "#create histogram of average vote\n",
    "hist3 = thinkstats2.Hist(df.avg_vote, label='Average Vote')\n",
    "\n",
    "#print mean, mode, variance, and standard deviation\n",
    "print(f'Mean:{df.avg_vote.mean()}\\nMode:{df.avg_vote.mode()}\\nVariance:{df.avg_vote.var()}\\nStd Dev:{df.avg_vote.std()}\\n')\n",
    "\n",
    "#print 10 smallest and largest values\n",
    "print('Smallest Values:')\n",
    "for duration, freq in hist3.Smallest(10):\n",
    "    print(duration, freq)\n",
    "print('\\n')\n",
    "print('Largest Values:')\n",
    "for duration, freq in hist3.Largest(10):\n",
    "    print(duration, freq)\n",
    "    \n",
    "#plot histogram\n",
    "thinkplot.Hist(hist3)\n",
    "thinkplot.Config(xlabel='Average Vote', \n",
    "                 ylabel='Count',\n",
    "                 xlim=[0,10]\n",
    "                )"
   ]
  },
  {
   "cell_type": "code",
   "execution_count": 24,
   "metadata": {},
   "outputs": [
    {
     "name": "stdout",
     "output_type": "stream",
     "text": [
      "Mean:55.76269454488288\n",
      "Mode:0    57.0\n",
      "dtype: float64\n",
      "Variance:315.32714211390356\n",
      "Std Dev:17.757453142663888\n",
      "\n",
      "Smallest Values:\n",
      "1.0 9\n",
      "3.0 2\n",
      "4.0 1\n",
      "5.0 4\n",
      "6.0 3\n",
      "7.0 7\n",
      "8.0 8\n",
      "9.0 16\n",
      "10.0 10\n",
      "11.0 16\n",
      "\n",
      "\n",
      "Largest Values:\n",
      "100.0 16\n",
      "99.0 7\n",
      "98.0 8\n",
      "97.0 12\n",
      "96.0 21\n",
      "95.0 17\n",
      "94.0 24\n",
      "93.0 26\n",
      "92.0 24\n",
      "91.0 35\n"
     ]
    },
    {
     "data": {
      "image/png": "[encoded data removed]",
      "text/plain": [
       "<Figure size 432x288 with 1 Axes>"
      ]
     },
     "metadata": {
      "needs_background": "light"
     },
     "output_type": "display_data"
    }
   ],
   "source": [
    "#create histogram of metascore\n",
    "hist4 = thinkstats2.Hist(df.metascore, label='Metascore')\n",
    "\n",
    "#print mean, mode, variance, and standard deviation\n",
    "print(f'Mean:{df.metascore.mean()}\\nMode:{df.metascore.mode()}\\nVariance:{df.metascore.var()}\\nStd Dev:{df.metascore.std()}\\n')\n",
    "\n",
    "#print 10 smallest and largest values\n",
    "print('Smallest Values:')\n",
    "for duration, freq in hist4.Smallest(10):\n",
    "    print(duration, freq)\n",
    "print('\\n')\n",
    "print('Largest Values:')\n",
    "for duration, freq in hist4.Largest(10):\n",
    "    print(duration, freq)\n",
    "\n",
    "#plot histogram\n",
    "thinkplot.Hist(hist4)\n",
    "thinkplot.Config(xlabel='Metascore', \n",
    "                 ylabel='Count')"
   ]
  },
  {
   "cell_type": "code",
   "execution_count": 26,
   "metadata": {},
   "outputs": [
    {
     "name": "stdout",
     "output_type": "stream",
     "text": [
      "Mean:95951670.09064199\n",
      "Mode:0    1000000.0\n",
      "dtype: float64\n",
      "Variance:7.452553586528615e+18\n",
      "Std Dev:2729936553.5720086\n",
      "\n",
      "Smallest Values:\n",
      "0.0 26\n",
      "1.0 5\n",
      "2.0 4\n",
      "3.0 1\n",
      "4.0 1\n",
      "5.0 3\n",
      "6.0 1\n",
      "7.0 1\n",
      "10.0 2\n",
      "11.0 1\n",
      "\n",
      "\n",
      "Largest Values:\n",
      "350000000000.0 1\n",
      "120000000000.0 1\n",
      "80000000000.0 1\n",
      "70000000000.0 1\n",
      "59000000000.0 1\n",
      "50000000000.0 1\n",
      "35000000000.0 3\n",
      "30000000000.0 4\n",
      "22500000000.0 1\n",
      "20000000000.0 5\n"
     ]
    },
    {
     "data": {
      "image/png": "[encoded data removed]",
      "text/plain": [
       "<Figure size 432x288 with 1 Axes>"
      ]
     },
     "metadata": {
      "needs_background": "light"
     },
     "output_type": "display_data"
    }
   ],
   "source": [
    "#create histogram of budget\n",
    "hist5 = thinkstats2.Hist(df.budget2, label='Budget')\n",
    "\n",
    "#print mean, mode, variance, and standard deviation\n",
    "print(f'Mean:{df.budget2.mean()}\\nMode:{df.budget2.mode()}\\nVariance:{df.budget2.var()}\\nStd Dev:{df.budget2.std()}\\n')\n",
    "\n",
    "#print 10 smallest and largest values\n",
    "print('Smallest Values:')\n",
    "for duration, freq in hist5.Smallest(10):\n",
    "    print(duration, freq)\n",
    "print('\\n')\n",
    "print('Largest Values:')\n",
    "for duration, freq in hist5.Largest(10):\n",
    "    print(duration, freq)\n",
    "    \n",
    "#plot histogram\n",
    "thinkplot.Hist(hist5)\n",
    "thinkplot.Config(xlabel='Budget', \n",
    "                 ylabel='Count'\n",
    "                )"
   ]
  },
  {
   "cell_type": "code",
   "execution_count": 32,
   "metadata": {
    "scrolled": false
   },
   "outputs": [
    {
     "name": "stdout",
     "output_type": "stream",
     "text": [
      "Mean:19.621639174034033\n",
      "Mode:0    1.0\n",
      "dtype: float64\n",
      "Variance:2312.55765647752\n",
      "Std Dev:48.08905963394918\n",
      "\n",
      "Smallest Values:\n",
      "3e-05 1\n",
      "6.4e-05 1\n",
      "7.2e-05 1\n",
      "7.4e-05 1\n",
      "7.8e-05 1\n",
      "8e-05 1\n",
      "9.5e-05 1\n",
      "0.00012 1\n",
      "0.000147 1\n",
      "0.00015 1\n",
      "\n",
      "\n",
      "Largest Values:\n",
      "936.662225 1\n",
      "858.373 1\n",
      "760.507625 1\n",
      "700.059566 1\n",
      "678.815482 1\n",
      "659.363944 1\n",
      "652.270625 1\n",
      "623.35791 1\n",
      "620.181382 1\n",
      "608.581744 1\n"
     ]
    },
    {
     "data": {
      "image/png": "[encoded data removed]",
      "text/plain": [
       "<Figure size 432x288 with 1 Axes>"
      ]
     },
     "metadata": {
      "needs_background": "light"
     },
     "output_type": "display_data"
    }
   ],
   "source": [
    "#create histogram of US Gross Income\n",
    "hist6 = thinkstats2.Hist(df.usa_gross_clean_mil, label='US Gross Income')\n",
    "\n",
    "#print mean, mode, variance, and standard deviation\n",
    "print(f'Mean:{df.usa_gross_clean_mil.mean()}\\nMode:{df.usa_gross_clean_mil.mode()}\\nVariance:{df.usa_gross_clean_mil.var()}\\nStd Dev:{df.usa_gross_clean_mil.std()}\\n')\n",
    "\n",
    "#print 10 smallest and largest values\n",
    "print('Smallest Values:')\n",
    "for duration, freq in hist6.Smallest(10):\n",
    "    print(duration, freq)\n",
    "print('\\n')\n",
    "print('Largest Values:')\n",
    "for duration, freq in hist6.Largest(10):\n",
    "    print(duration, freq)\n",
    "\n",
    "#plot histogram    \n",
    "thinkplot.Hist(hist6)\n",
    "thinkplot.Config(xlabel='US Gross Income (Millions)', \n",
    "                 ylabel='Count'\n",
    "                )"
   ]
  },
  {
   "cell_type": "code",
   "execution_count": 30,
   "metadata": {
    "scrolled": false
   },
   "outputs": [
    {
     "name": "stdout",
     "output_type": "stream",
     "text": [
      "Mean:9421.771006361276\n",
      "Mode:0    103\n",
      "dtype: int64\n",
      "Variance:2725095483.516713\n",
      "Std Dev:52202.44710276246\n",
      "\n",
      "Smallest Values:\n",
      "99 1\n",
      "100 267\n",
      "101 258\n",
      "102 298\n",
      "103 319\n",
      "104 300\n",
      "105 301\n",
      "106 295\n",
      "107 291\n",
      "108 246\n",
      "\n",
      "\n",
      "Largest Values:\n",
      "2159628 1\n",
      "2134569 1\n",
      "1892929 1\n",
      "1725365 1\n",
      "1695085 1\n",
      "1662528 1\n",
      "1554261 1\n",
      "1548863 1\n",
      "1533574 1\n",
      "1482143 1\n"
     ]
    },
    {
     "data": {
      "image/png": "[encoded data removed]",
      "text/plain": [
       "<Figure size 432x288 with 1 Axes>"
      ]
     },
     "metadata": {
      "needs_background": "light"
     },
     "output_type": "display_data"
    }
   ],
   "source": [
    "#create histogram of year\n",
    "hist7 = thinkstats2.Hist(df.votes, label='Votes')\n",
    "\n",
    "#print mean, mode, variance, and standard deviation\n",
    "print(f'Mean:{df.votes.mean()}\\nMode:{df.votes.mode()}\\nVariance:{df.votes.var()}\\nStd Dev:{df.votes.std()}\\n')\n",
    "\n",
    "#print 10 smallest and largest values\n",
    "print('Smallest Values:')\n",
    "for duration, freq in hist7.Smallest(10):\n",
    "    print(duration, freq)\n",
    "print('\\n')\n",
    "print('Largest Values:')\n",
    "for duration, freq in hist7.Largest(10):\n",
    "    print(duration, freq)\n",
    "    \n",
    "#plot histogram\n",
    "thinkplot.Hist(hist7)\n",
    "thinkplot.Config(xlabel='Votes', \n",
    "                 ylabel='Count',\n",
    "                 xlim=[0,5000],\n",
    "                 ylim=[0,400]\n",
    "                )"
   ]
  },
  {
   "cell_type": "code",
   "execution_count": 43,
   "metadata": {},
   "outputs": [],
   "source": [
    "#create data frame of US movies\n",
    "usa=df[df['country']=='USA']\n",
    "\n",
    "#create data frame of forgeign movies\n",
    "foreign=df[df['country']!='USA']\n",
    "\n",
    "#create pmf of average vote for each data set\n",
    "foreign_pmf = thinkstats2.Pmf(foreign.avg_vote, label='foreign')\n",
    "usa_pmf = thinkstats2.Pmf(usa.avg_vote, label='usa')"
   ]
  },
  {
   "cell_type": "code",
   "execution_count": 45,
   "metadata": {},
   "outputs": [
    {
     "data": {
      "image/png": "[encoded data removed]",
      "text/plain": [
       "<Figure size 864x432 with 2 Axes>"
      ]
     },
     "metadata": {
      "needs_background": "light"
     },
     "output_type": "display_data"
    }
   ],
   "source": [
    "#plot histogram and PMFs\n",
    "width=0.45\n",
    "axis = [0, 10, 0, 0.05]\n",
    "thinkplot.PrePlot(2, cols=2)\n",
    "thinkplot.Hist(foreign_pmf, align='right', width=width)\n",
    "thinkplot.Hist(usa_pmf, align='left', width=width)\n",
    "thinkplot.Config(xlabel='Average Rating', ylabel='PMF', axis=axis)\n",
    "\n",
    "thinkplot.PrePlot(2)\n",
    "thinkplot.SubPlot(2)\n",
    "thinkplot.Pmfs([foreign_pmf, usa_pmf])\n",
    "thinkplot.Config(xlabel='Average Rating', axis=axis)"
   ]
  },
  {
   "cell_type": "code",
   "execution_count": 34,
   "metadata": {},
   "outputs": [
    {
     "data": {
      "text/plain": [
       "(6.1, 46.470537570903005)"
      ]
     },
     "execution_count": 34,
     "metadata": {},
     "output_type": "execute_result"
    },
    {
     "data": {
      "image/png": "[encoded data removed]",
      "text/plain": [
       "<Figure size 432x288 with 1 Axes>"
      ]
     },
     "metadata": {
      "needs_background": "light"
     },
     "output_type": "display_data"
    }
   ],
   "source": [
    "#create CDF of average vote\n",
    "cdf = thinkstats2.Cdf(df.avg_vote, label='Average Rating')\n",
    "\n",
    "#plot CDF\n",
    "thinkplot.Cdf(cdf)\n",
    "thinkplot.Config(xlabel='Average Rating', ylabel='CDF', loc='upper left')\n",
    "\n",
    "#Find median and percentile of 6.0 rating\n",
    "cdf.Percentile(50), cdf.PercentileRank(6)"
   ]
  },
  {
   "cell_type": "code",
   "execution_count": 47,
   "metadata": {},
   "outputs": [
    {
     "name": "stdout",
     "output_type": "stream",
     "text": [
      "Mean, Var 5.941075217516856 1.3433032218656407\n",
      "Sigma 1.1590095866150723\n"
     ]
    },
    {
     "data": {
      "image/png": "[encoded data removed]",
      "text/plain": [
       "<Figure size 432x288 with 1 Axes>"
      ]
     },
     "metadata": {
      "needs_background": "light"
     },
     "output_type": "display_data"
    }
   ],
   "source": [
    "# estimate parameters: trimming outliers yields a better fit\n",
    "mu, var = thinkstats2.TrimmedMeanVar(df.avg_vote, p=0.01)\n",
    "print('Mean, Var', mu, var)\n",
    "    \n",
    "# plot the model\n",
    "sigma = np.sqrt(var)\n",
    "print('Sigma', sigma)\n",
    "xs, ps = thinkstats2.RenderNormalCdf(mu, sigma, low=0, high=12.5)\n",
    "\n",
    "thinkplot.Plot(xs, ps, label='model', color='0.6')\n",
    "\n",
    "# plot the data\n",
    "cdf = thinkstats2.Cdf(df.avg_vote, label='data')\n",
    "\n",
    "thinkplot.PrePlot(1)\n",
    "thinkplot.Cdf(cdf) \n",
    "thinkplot.Config(title='Average Rating',\n",
    "                 xlabel='Rating',\n",
    "                 ylabel='CDF')"
   ]
  },
  {
   "cell_type": "code",
   "execution_count": 35,
   "metadata": {},
   "outputs": [
    {
     "data": {
      "image/png": "[encoded data removed]",
      "text/plain": [
       "<Figure size 432x288 with 1 Axes>"
      ]
     },
     "metadata": {
      "needs_background": "light"
     },
     "output_type": "display_data"
    }
   ],
   "source": [
    "#create normal probabliliy plot of average vote\n",
    "mean, var = thinkstats2.TrimmedMeanVar(df.avg_vote, p=0.01)\n",
    "std = np.sqrt(var)\n",
    "\n",
    "xs = [-4, 4]\n",
    "fxs, fys = thinkstats2.FitLine(xs, mean, std)\n",
    "thinkplot.Plot(fxs, fys, linewidth=4, color='0.8')\n",
    "\n",
    "xs, ys = thinkstats2.NormalProbability(df.avg_vote)\n",
    "\n",
    "thinkplot.Plot(xs, ys, label='Ratings')\n",
    "thinkplot.Config(title='Normal probability plot',\n",
    "                 xlabel='Standard deviations from mean',\n",
    "                 ylabel='Average Rating')"
   ]
  },
  {
   "cell_type": "code",
   "execution_count": 36,
   "metadata": {},
   "outputs": [],
   "source": [
    "#Covariance function\n",
    "def Cov(xs, ys, meanx=None, meany=None):\n",
    "    xs = np.asarray(xs)\n",
    "    ys = np.asarray(ys)\n",
    "\n",
    "    if meanx is None:\n",
    "        meanx = np.mean(xs)\n",
    "    if meany is None:\n",
    "        meany = np.mean(ys)\n",
    "\n",
    "    cov = np.dot(xs-meanx, ys-meany) / len(xs)\n",
    "    return cov\n",
    "\n",
    "#Correlation function\n",
    "def Corr(xs, ys):\n",
    "    xs = np.asarray(xs)\n",
    "    ys = np.asarray(ys)\n",
    "\n",
    "    meanx, varx = thinkstats2.MeanVar(xs)\n",
    "    meany, vary = thinkstats2.MeanVar(ys)\n",
    "\n",
    "    corr = Cov(xs, ys, meanx, meany) / np.sqrt(varx * vary)\n",
    "    return corr\n",
    "\n",
    "#Spearman correlation function\n",
    "def SpearmanCorr(xs, ys):\n",
    "    xranks = pd.Series(xs).rank()\n",
    "    yranks = pd.Series(ys).rank()\n",
    "    return Corr(xranks, yranks)"
   ]
  },
  {
   "cell_type": "code",
   "execution_count": 37,
   "metadata": {},
   "outputs": [
    {
     "name": "stdout",
     "output_type": "stream",
     "text": [
      "Covariance:11.969674087035198\n",
      "Correlation:0.6922140035574633\n",
      "Spearman Correlation:0.6853275230071676\n"
     ]
    },
    {
     "data": {
      "image/png": "[encoded data removed]",
      "text/plain": [
       "<Figure size 432x288 with 1 Axes>"
      ]
     },
     "metadata": {
      "needs_background": "light"
     },
     "output_type": "display_data"
    }
   ],
   "source": [
    "#remove NaN vlues\n",
    "clean = df.dropna(subset=['avg_vote', 'metascore'])\n",
    "\n",
    "#calculate and print correlation values\n",
    "cov=Cov(clean.avg_vote,clean.metascore)\n",
    "cor=Corr(clean.avg_vote, clean.metascore)\n",
    "spear=SpearmanCorr(clean.avg_vote, clean.metascore)\n",
    "\n",
    "print(f\"Covariance:{cov}\\nCorrelation:{cor}\\nSpearman Correlation:{spear}\")\n",
    "\n",
    "#plot scatter\n",
    "thinkplot.Scatter(df.avg_vote, df.metascore, alpha=0.1, s=20)\n",
    "thinkplot.Config(xlabel='Average Vote',\n",
    "                 ylabel='Metascore',\n",
    "                 axis=[0, 10, -10, 110],\n",
    "                 legend=False)"
   ]
  },
  {
   "cell_type": "code",
   "execution_count": 96,
   "metadata": {},
   "outputs": [
    {
     "name": "stdout",
     "output_type": "stream",
     "text": [
      "Covariance:91.22207049014045\n",
      "Correlation:0.1501643158211807\n",
      "Spearman Correlation:0.16345797417505573\n"
     ]
    },
    {
     "data": {
      "image/png": "[encoded data removed]",
      "text/plain": [
       "<Figure size 432x288 with 1 Axes>"
      ]
     },
     "metadata": {
      "needs_background": "light"
     },
     "output_type": "display_data"
    }
   ],
   "source": [
    "#remove NaN values \n",
    "clean = df.dropna(subset=['year', 'duration'])\n",
    "\n",
    "#calculate and print correlation values\n",
    "cov=Cov(clean.year,clean.duration)\n",
    "cor=Corr(clean.year, clean.duration)\n",
    "spear=SpearmanCorr(clean.year, clean.duration)\n",
    "\n",
    "print(f\"Covariance:{cov}\\nCorrelation:{cor}\\nSpearman Correlation:{spear}\")\n",
    "\n",
    "#plot scatter\n",
    "thinkplot.Scatter(df.year, df.duration, alpha=0.3, s=20)\n",
    "thinkplot.Config(xlabel='Year',\n",
    "                 ylabel='Duration',\n",
    "                 axis=[1900, 2020, -10, 400],\n",
    "                 legend=False)"
   ]
  },
  {
   "cell_type": "code",
   "execution_count": 38,
   "metadata": {},
   "outputs": [
    {
     "name": "stdout",
     "output_type": "stream",
     "text": [
      "Covariance:10698.539117658444\n",
      "Correlation:0.16483813356750815\n",
      "Spearman Correlation:0.27922677895722087\n"
     ]
    },
    {
     "data": {
      "image/png": "[encoded data removed]",
      "text/plain": [
       "<Figure size 432x288 with 1 Axes>"
      ]
     },
     "metadata": {
      "needs_background": "light"
     },
     "output_type": "display_data"
    }
   ],
   "source": [
    "#remove NaN values\n",
    "clean = df.dropna(subset=['avg_vote', 'votes'])\n",
    "\n",
    "#calculate and print correlation values\n",
    "cov=Cov(clean.avg_vote,clean.votes)\n",
    "cor=Corr(clean.avg_vote, clean.votes)\n",
    "spear=SpearmanCorr(clean.avg_vote, clean.votes)\n",
    "\n",
    "print(f\"Covariance:{cov}\\nCorrelation:{cor}\\nSpearman Correlation:{spear}\")\n",
    "\n",
    "#plot scatter\n",
    "thinkplot.Scatter(df.avg_vote, df.votes, alpha=0.3, s=20)\n",
    "thinkplot.Config(xlabel='Average Vote',\n",
    "                 ylabel='Votes',\n",
    "                 axis=[0, 10, 0, 1000000],\n",
    "                 legend=False)"
   ]
  },
  {
   "cell_type": "code",
   "execution_count": 104,
   "metadata": {},
   "outputs": [
    {
     "name": "stdout",
     "output_type": "stream",
     "text": [
      "Covariance:0.6270949054767229\n",
      "Correlation:0.28585441203715645\n",
      "Spearman Correlation:0.27922677895722087\n"
     ]
    },
    {
     "data": {
      "image/png": "[encoded data removed]",
      "text/plain": [
       "<Figure size 432x288 with 1 Axes>"
      ]
     },
     "metadata": {
      "needs_background": "light"
     },
     "output_type": "display_data"
    }
   ],
   "source": [
    "clean = df.dropna(subset=['avg_vote', 'votes'])\n",
    "cov=Cov(clean.avg_vote,np.log(clean.votes))\n",
    "cor=Corr(clean.avg_vote, np.log(clean.votes))\n",
    "spear=SpearmanCorr(clean.avg_vote, np.log(clean.votes))\n",
    "\n",
    "print(f\"Covariance:{cov}\\nCorrelation:{cor}\\nSpearman Correlation:{spear}\")\n",
    "\n",
    "thinkplot.Scatter(df.avg_vote, np.log(df.votes), alpha=0.3, s=20)\n",
    "thinkplot.Config(xlabel='Average Vote',\n",
    "                 ylabel='log(Votes)',\n",
    "                 axis=[0, 10, 0, 20],\n",
    "                 legend=False)"
   ]
  },
  {
   "cell_type": "code",
   "execution_count": 158,
   "metadata": {},
   "outputs": [
    {
     "name": "stdout",
     "output_type": "stream",
     "text": [
      "Covariance:7.9506974875088545\n",
      "Correlation:0.16225643075074364\n",
      "Spearman Correlation:0.12716016026615393\n"
     ]
    },
    {
     "data": {
      "image/png": "[encoded data removed]",
      "text/plain": [
       "<Figure size 432x288 with 1 Axes>"
      ]
     },
     "metadata": {
      "needs_background": "light"
     },
     "output_type": "display_data"
    }
   ],
   "source": [
    "clean = df.dropna(subset=['avg_vote', 'usa_gross_clean_mil'])\n",
    "cov=Cov(clean.avg_vote,clean.usa_gross_clean_mil)\n",
    "cor=Corr(clean.avg_vote, clean.usa_gross_clean_mil)\n",
    "spear=SpearmanCorr(clean.avg_vote, clean.usa_gross_clean_mil)\n",
    "\n",
    "print(f\"Covariance:{cov}\\nCorrelation:{cor}\\nSpearman Correlation:{spear}\")\n",
    "\n",
    "thinkplot.Scatter(df.usa_gross_clean_mil,df.avg_vote, alpha=0.3, s=20)\n",
    "thinkplot.Config(xlabel='USA Gross (Millions)',\n",
    "                 ylabel='Average Vote',\n",
    "                 xlim=[0,500],\n",
    "                 legend=False)"
   ]
  },
  {
   "cell_type": "code",
   "execution_count": 39,
   "metadata": {},
   "outputs": [],
   "source": [
    "#Correlation Hypothesis Test function\n",
    "class CorrelationPermute(thinkstats2.HypothesisTest):\n",
    "\n",
    "    def TestStatistic(self, data):\n",
    "        xs, ys = data\n",
    "        test_stat = abs(thinkstats2.Corr(xs, ys))\n",
    "        return test_stat\n",
    "\n",
    "    def RunModel(self):\n",
    "        xs, ys = self.data\n",
    "        xs = np.random.permutation(xs)\n",
    "        return xs, ys"
   ]
  },
  {
   "cell_type": "code",
   "execution_count": 40,
   "metadata": {},
   "outputs": [
    {
     "data": {
      "text/plain": [
       "0.0"
      ]
     },
     "execution_count": 40,
     "metadata": {},
     "output_type": "execute_result"
    }
   ],
   "source": [
    "#drop NaN values\n",
    "clean = df.dropna(subset=['avg_vote', 'metascore'])\n",
    "\n",
    "#calculate correlation p-value\n",
    "data = clean.avg_vote.values, clean.metascore.values\n",
    "ht = CorrelationPermute(data)\n",
    "pvalue = ht.PValue()\n",
    "pvalue"
   ]
  },
  {
   "cell_type": "code",
   "execution_count": 49,
   "metadata": {},
   "outputs": [
    {
     "data": {
      "text/plain": [
       "0.0"
      ]
     },
     "execution_count": 49,
     "metadata": {},
     "output_type": "execute_result"
    }
   ],
   "source": [
    "#drop NaN values\n",
    "clean = df.dropna(subset=['avg_vote', 'usa_gross_clean_mil'])\n",
    "\n",
    "#calculate correlation p-value\n",
    "data = clean.avg_vote.values, clean.usa_gross_clean_mil.values\n",
    "ht = CorrelationPermute(data)\n",
    "pvalue = ht.PValue()\n",
    "pvalue"
   ]
  },
  {
   "cell_type": "code",
   "execution_count": 45,
   "metadata": {},
   "outputs": [],
   "source": [
    "#Difference of means Hypothesis Test function\n",
    "class DiffMeansPermute(thinkstats2.HypothesisTest):\n",
    "\n",
    "    def TestStatistic(self, data):\n",
    "        group1, group2 = data\n",
    "        test_stat = abs(group1.mean() - group2.mean())\n",
    "        return test_stat\n",
    "\n",
    "    def MakeModel(self):\n",
    "        group1, group2 = self.data\n",
    "        self.n, self.m = len(group1), len(group2)\n",
    "        self.pool = np.hstack((group1, group2))\n",
    "\n",
    "    def RunModel(self):\n",
    "        np.random.shuffle(self.pool)\n",
    "        data = self.pool[:self.n], self.pool[self.n:]\n",
    "        return data"
   ]
  },
  {
   "cell_type": "code",
   "execution_count": 46,
   "metadata": {},
   "outputs": [
    {
     "name": "stdout",
     "output_type": "stream",
     "text": [
      "US mean:5.5887195343761595\n",
      "Foreign mean:6.099280441775297\n",
      "Delta:-0.5105609073991371\n",
      "p-value:0.0\n"
     ]
    }
   ],
   "source": [
    "#calculate means of US and foreign films\n",
    "usa_mean=usa.avg_vote.mean()\n",
    "foreign_mean=foreign.avg_vote.mean()\n",
    "\n",
    "#delta\n",
    "diff=usa_mean-foreign_mean\n",
    "\n",
    "#calculate p-value\n",
    "data = usa.avg_vote.values, foreign.avg_vote.values    \n",
    "ht = DiffMeansPermute(data)\n",
    "pvalue = ht.PValue()\n",
    "print(f\"US mean:{usa_mean}\\nForeign mean:{foreign_mean}\\nDelta:{diff}\\np-value:{pvalue}\")"
   ]
  },
  {
   "cell_type": "code",
   "execution_count": 47,
   "metadata": {},
   "outputs": [
    {
     "data": {
      "text/html": [
       "<table class=\"simpletable\">\n",
       "<caption>OLS Regression Results</caption>\n",
       "<tr>\n",
       "  <th>Dep. Variable:</th>        <td>avg_vote</td>     <th>  R-squared:         </th> <td>   0.026</td> \n",
       "</tr>\n",
       "<tr>\n",
       "  <th>Model:</th>                   <td>OLS</td>       <th>  Adj. R-squared:    </th> <td>   0.026</td> \n",
       "</tr>\n",
       "<tr>\n",
       "  <th>Method:</th>             <td>Least Squares</td>  <th>  F-statistic:       </th> <td>   407.9</td> \n",
       "</tr>\n",
       "<tr>\n",
       "  <th>Date:</th>             <td>Sat, 08 Aug 2020</td> <th>  Prob (F-statistic):</th> <td>1.57e-89</td> \n",
       "</tr>\n",
       "<tr>\n",
       "  <th>Time:</th>                 <td>15:24:50</td>     <th>  Log-Likelihood:    </th> <td> -21493.</td> \n",
       "</tr>\n",
       "<tr>\n",
       "  <th>No. Observations:</th>      <td> 15089</td>      <th>  AIC:               </th> <td>4.299e+04</td>\n",
       "</tr>\n",
       "<tr>\n",
       "  <th>Df Residuals:</th>          <td> 15087</td>      <th>  BIC:               </th> <td>4.301e+04</td>\n",
       "</tr>\n",
       "<tr>\n",
       "  <th>Df Model:</th>              <td>     1</td>      <th>                     </th>     <td> </td>    \n",
       "</tr>\n",
       "<tr>\n",
       "  <th>Covariance Type:</th>      <td>nonrobust</td>    <th>                     </th>     <td> </td>    \n",
       "</tr>\n",
       "</table>\n",
       "<table class=\"simpletable\">\n",
       "<tr>\n",
       "           <td></td>              <th>coef</th>     <th>std err</th>      <th>t</th>      <th>P>|t|</th>  <th>[0.025</th>    <th>0.975]</th>  \n",
       "</tr>\n",
       "<tr>\n",
       "  <th>Intercept</th>           <td>    6.2281</td> <td>    0.009</td> <td>  704.434</td> <td> 0.000</td> <td>    6.211</td> <td>    6.245</td>\n",
       "</tr>\n",
       "<tr>\n",
       "  <th>usa_gross_clean_mil</th> <td>    0.0034</td> <td>    0.000</td> <td>   20.197</td> <td> 0.000</td> <td>    0.003</td> <td>    0.004</td>\n",
       "</tr>\n",
       "</table>\n",
       "<table class=\"simpletable\">\n",
       "<tr>\n",
       "  <th>Omnibus:</th>       <td>1510.976</td> <th>  Durbin-Watson:     </th> <td>   1.920</td>\n",
       "</tr>\n",
       "<tr>\n",
       "  <th>Prob(Omnibus):</th>  <td> 0.000</td>  <th>  Jarque-Bera (JB):  </th> <td>2284.390</td>\n",
       "</tr>\n",
       "<tr>\n",
       "  <th>Skew:</th>           <td>-0.757</td>  <th>  Prob(JB):          </th> <td>    0.00</td>\n",
       "</tr>\n",
       "<tr>\n",
       "  <th>Kurtosis:</th>       <td> 4.159</td>  <th>  Cond. No.          </th> <td>    56.1</td>\n",
       "</tr>\n",
       "</table><br/><br/>Warnings:<br/>[1] Standard Errors assume that the covariance matrix of the errors is correctly specified."
      ],
      "text/plain": [
       "<class 'statsmodels.iolib.summary.Summary'>\n",
       "\"\"\"\n",
       "                            OLS Regression Results                            \n",
       "==============================================================================\n",
       "Dep. Variable:               avg_vote   R-squared:                       0.026\n",
       "Model:                            OLS   Adj. R-squared:                  0.026\n",
       "Method:                 Least Squares   F-statistic:                     407.9\n",
       "Date:                Sat, 08 Aug 2020   Prob (F-statistic):           1.57e-89\n",
       "Time:                        15:24:50   Log-Likelihood:                -21493.\n",
       "No. Observations:               15089   AIC:                         4.299e+04\n",
       "Df Residuals:                   15087   BIC:                         4.301e+04\n",
       "Df Model:                           1                                         \n",
       "Covariance Type:            nonrobust                                         \n",
       "=======================================================================================\n",
       "                          coef    std err          t      P>|t|      [0.025      0.975]\n",
       "---------------------------------------------------------------------------------------\n",
       "Intercept               6.2281      0.009    704.434      0.000       6.211       6.245\n",
       "usa_gross_clean_mil     0.0034      0.000     20.197      0.000       0.003       0.004\n",
       "==============================================================================\n",
       "Omnibus:                     1510.976   Durbin-Watson:                   1.920\n",
       "Prob(Omnibus):                  0.000   Jarque-Bera (JB):             2284.390\n",
       "Skew:                          -0.757   Prob(JB):                         0.00\n",
       "Kurtosis:                       4.159   Cond. No.                         56.1\n",
       "==============================================================================\n",
       "\n",
       "Warnings:\n",
       "[1] Standard Errors assume that the covariance matrix of the errors is correctly specified.\n",
       "\"\"\""
      ]
     },
     "execution_count": 47,
     "metadata": {},
     "output_type": "execute_result"
    }
   ],
   "source": [
    "#linear regression of average vote predicted by US gross income (millions)\n",
    "formula = 'avg_vote ~ usa_gross_clean_mil'\n",
    "model = smf.ols(formula, data=df)\n",
    "results = model.fit()\n",
    "results.summary()"
   ]
  },
  {
   "cell_type": "code",
   "execution_count": 50,
   "metadata": {},
   "outputs": [
    {
     "data": {
      "text/html": [
       "<table class=\"simpletable\">\n",
       "<caption>OLS Regression Results</caption>\n",
       "<tr>\n",
       "  <th>Dep. Variable:</th>    <td>usa_gross_clean_mil</td> <th>  R-squared:         </th> <td>   0.026</td> \n",
       "</tr>\n",
       "<tr>\n",
       "  <th>Model:</th>                    <td>OLS</td>         <th>  Adj. R-squared:    </th> <td>   0.026</td> \n",
       "</tr>\n",
       "<tr>\n",
       "  <th>Method:</th>              <td>Least Squares</td>    <th>  F-statistic:       </th> <td>   407.9</td> \n",
       "</tr>\n",
       "<tr>\n",
       "  <th>Date:</th>              <td>Sat, 08 Aug 2020</td>   <th>  Prob (F-statistic):</th> <td>1.57e-89</td> \n",
       "</tr>\n",
       "<tr>\n",
       "  <th>Time:</th>                  <td>15:27:07</td>       <th>  Log-Likelihood:    </th> <td> -79649.</td> \n",
       "</tr>\n",
       "<tr>\n",
       "  <th>No. Observations:</th>       <td> 15089</td>        <th>  AIC:               </th> <td>1.593e+05</td>\n",
       "</tr>\n",
       "<tr>\n",
       "  <th>Df Residuals:</th>           <td> 15087</td>        <th>  BIC:               </th> <td>1.593e+05</td>\n",
       "</tr>\n",
       "<tr>\n",
       "  <th>Df Model:</th>               <td>     1</td>        <th>                     </th>     <td> </td>    \n",
       "</tr>\n",
       "<tr>\n",
       "  <th>Covariance Type:</th>       <td>nonrobust</td>      <th>                     </th>     <td> </td>    \n",
       "</tr>\n",
       "</table>\n",
       "<table class=\"simpletable\">\n",
       "<tr>\n",
       "      <td></td>         <th>coef</th>     <th>std err</th>      <th>t</th>      <th>P>|t|</th>  <th>[0.025</th>    <th>0.975]</th>  \n",
       "</tr>\n",
       "<tr>\n",
       "  <th>Intercept</th> <td>  -28.5843</td> <td>    2.418</td> <td>  -11.822</td> <td> 0.000</td> <td>  -33.323</td> <td>  -23.845</td>\n",
       "</tr>\n",
       "<tr>\n",
       "  <th>avg_vote</th>  <td>    7.6571</td> <td>    0.379</td> <td>   20.197</td> <td> 0.000</td> <td>    6.914</td> <td>    8.400</td>\n",
       "</tr>\n",
       "</table>\n",
       "<table class=\"simpletable\">\n",
       "<tr>\n",
       "  <th>Omnibus:</th>       <td>16620.864</td> <th>  Durbin-Watson:     </th>  <td>   1.846</td>  \n",
       "</tr>\n",
       "<tr>\n",
       "  <th>Prob(Omnibus):</th>  <td> 0.000</td>   <th>  Jarque-Bera (JB):  </th> <td>1754168.323</td>\n",
       "</tr>\n",
       "<tr>\n",
       "  <th>Skew:</th>           <td> 5.602</td>   <th>  Prob(JB):          </th>  <td>    0.00</td>  \n",
       "</tr>\n",
       "<tr>\n",
       "  <th>Kurtosis:</th>       <td>54.620</td>   <th>  Cond. No.          </th>  <td>    40.9</td>  \n",
       "</tr>\n",
       "</table><br/><br/>Warnings:<br/>[1] Standard Errors assume that the covariance matrix of the errors is correctly specified."
      ],
      "text/plain": [
       "<class 'statsmodels.iolib.summary.Summary'>\n",
       "\"\"\"\n",
       "                             OLS Regression Results                            \n",
       "===============================================================================\n",
       "Dep. Variable:     usa_gross_clean_mil   R-squared:                       0.026\n",
       "Model:                             OLS   Adj. R-squared:                  0.026\n",
       "Method:                  Least Squares   F-statistic:                     407.9\n",
       "Date:                 Sat, 08 Aug 2020   Prob (F-statistic):           1.57e-89\n",
       "Time:                         15:27:07   Log-Likelihood:                -79649.\n",
       "No. Observations:                15089   AIC:                         1.593e+05\n",
       "Df Residuals:                    15087   BIC:                         1.593e+05\n",
       "Df Model:                            1                                         \n",
       "Covariance Type:             nonrobust                                         \n",
       "==============================================================================\n",
       "                 coef    std err          t      P>|t|      [0.025      0.975]\n",
       "------------------------------------------------------------------------------\n",
       "Intercept    -28.5843      2.418    -11.822      0.000     -33.323     -23.845\n",
       "avg_vote       7.6571      0.379     20.197      0.000       6.914       8.400\n",
       "==============================================================================\n",
       "Omnibus:                    16620.864   Durbin-Watson:                   1.846\n",
       "Prob(Omnibus):                  0.000   Jarque-Bera (JB):          1754168.323\n",
       "Skew:                           5.602   Prob(JB):                         0.00\n",
       "Kurtosis:                      54.620   Cond. No.                         40.9\n",
       "==============================================================================\n",
       "\n",
       "Warnings:\n",
       "[1] Standard Errors assume that the covariance matrix of the errors is correctly specified.\n",
       "\"\"\""
      ]
     },
     "execution_count": 50,
     "metadata": {},
     "output_type": "execute_result"
    }
   ],
   "source": [
    "#linear regression of US gross income (millions) predicted by average vote\n",
    "formula = 'usa_gross_clean_mil ~ avg_vote'\n",
    "model = smf.ols(formula, data=df)\n",
    "results = model.fit()\n",
    "results.summary()"
   ]
  },
  {
   "cell_type": "code",
   "execution_count": 51,
   "metadata": {
    "scrolled": true
   },
   "outputs": [
    {
     "data": {
      "text/html": [
       "<table class=\"simpletable\">\n",
       "<caption>OLS Regression Results</caption>\n",
       "<tr>\n",
       "  <th>Dep. Variable:</th>    <td>usa_gross_clean_mil</td> <th>  R-squared:         </th> <td>   0.454</td> \n",
       "</tr>\n",
       "<tr>\n",
       "  <th>Model:</th>                    <td>OLS</td>         <th>  Adj. R-squared:    </th> <td>   0.454</td> \n",
       "</tr>\n",
       "<tr>\n",
       "  <th>Method:</th>              <td>Least Squares</td>    <th>  F-statistic:       </th> <td>   3140.</td> \n",
       "</tr>\n",
       "<tr>\n",
       "  <th>Date:</th>              <td>Sat, 08 Aug 2020</td>   <th>  Prob (F-statistic):</th>  <td>  0.00</td>  \n",
       "</tr>\n",
       "<tr>\n",
       "  <th>Time:</th>                  <td>15:27:11</td>       <th>  Log-Likelihood:    </th> <td> -75281.</td> \n",
       "</tr>\n",
       "<tr>\n",
       "  <th>No. Observations:</th>       <td> 15089</td>        <th>  AIC:               </th> <td>1.506e+05</td>\n",
       "</tr>\n",
       "<tr>\n",
       "  <th>Df Residuals:</th>           <td> 15084</td>        <th>  BIC:               </th> <td>1.506e+05</td>\n",
       "</tr>\n",
       "<tr>\n",
       "  <th>Df Model:</th>               <td>     4</td>        <th>                     </th>     <td> </td>    \n",
       "</tr>\n",
       "<tr>\n",
       "  <th>Covariance Type:</th>       <td>nonrobust</td>      <th>                     </th>     <td> </td>    \n",
       "</tr>\n",
       "</table>\n",
       "<table class=\"simpletable\">\n",
       "<tr>\n",
       "       <td></td>         <th>coef</th>     <th>std err</th>      <th>t</th>      <th>P>|t|</th>  <th>[0.025</th>    <th>0.975]</th>  \n",
       "</tr>\n",
       "<tr>\n",
       "  <th>Intercept</th>  <td>  -25.8246</td> <td>   38.455</td> <td>   -0.672</td> <td> 0.502</td> <td> -101.201</td> <td>   49.552</td>\n",
       "</tr>\n",
       "<tr>\n",
       "  <th>avg_vote</th>   <td>   -3.0047</td> <td>    0.312</td> <td>   -9.638</td> <td> 0.000</td> <td>   -3.616</td> <td>   -2.394</td>\n",
       "</tr>\n",
       "<tr>\n",
       "  <th>votes_thou</th> <td>    0.2887</td> <td>    0.003</td> <td>  106.304</td> <td> 0.000</td> <td>    0.283</td> <td>    0.294</td>\n",
       "</tr>\n",
       "<tr>\n",
       "  <th>year</th>       <td>    0.0222</td> <td>    0.019</td> <td>    1.162</td> <td> 0.245</td> <td>   -0.015</td> <td>    0.060</td>\n",
       "</tr>\n",
       "<tr>\n",
       "  <th>duration</th>   <td>    0.0678</td> <td>    0.014</td> <td>    4.767</td> <td> 0.000</td> <td>    0.040</td> <td>    0.096</td>\n",
       "</tr>\n",
       "</table>\n",
       "<table class=\"simpletable\">\n",
       "<tr>\n",
       "  <th>Omnibus:</th>       <td>13214.587</td> <th>  Durbin-Watson:     </th>  <td>   1.891</td>  \n",
       "</tr>\n",
       "<tr>\n",
       "  <th>Prob(Omnibus):</th>  <td> 0.000</td>   <th>  Jarque-Bera (JB):  </th> <td>2627203.151</td>\n",
       "</tr>\n",
       "<tr>\n",
       "  <th>Skew:</th>           <td> 3.509</td>   <th>  Prob(JB):          </th>  <td>    0.00</td>  \n",
       "</tr>\n",
       "<tr>\n",
       "  <th>Kurtosis:</th>       <td>67.261</td>   <th>  Cond. No.          </th>  <td>2.66e+05</td>  \n",
       "</tr>\n",
       "</table><br/><br/>Warnings:<br/>[1] Standard Errors assume that the covariance matrix of the errors is correctly specified.<br/>[2] The condition number is large, 2.66e+05. This might indicate that there are<br/>strong multicollinearity or other numerical problems."
      ],
      "text/plain": [
       "<class 'statsmodels.iolib.summary.Summary'>\n",
       "\"\"\"\n",
       "                             OLS Regression Results                            \n",
       "===============================================================================\n",
       "Dep. Variable:     usa_gross_clean_mil   R-squared:                       0.454\n",
       "Model:                             OLS   Adj. R-squared:                  0.454\n",
       "Method:                  Least Squares   F-statistic:                     3140.\n",
       "Date:                 Sat, 08 Aug 2020   Prob (F-statistic):               0.00\n",
       "Time:                         15:27:11   Log-Likelihood:                -75281.\n",
       "No. Observations:                15089   AIC:                         1.506e+05\n",
       "Df Residuals:                    15084   BIC:                         1.506e+05\n",
       "Df Model:                            4                                         \n",
       "Covariance Type:             nonrobust                                         \n",
       "==============================================================================\n",
       "                 coef    std err          t      P>|t|      [0.025      0.975]\n",
       "------------------------------------------------------------------------------\n",
       "Intercept    -25.8246     38.455     -0.672      0.502    -101.201      49.552\n",
       "avg_vote      -3.0047      0.312     -9.638      0.000      -3.616      -2.394\n",
       "votes_thou     0.2887      0.003    106.304      0.000       0.283       0.294\n",
       "year           0.0222      0.019      1.162      0.245      -0.015       0.060\n",
       "duration       0.0678      0.014      4.767      0.000       0.040       0.096\n",
       "==============================================================================\n",
       "Omnibus:                    13214.587   Durbin-Watson:                   1.891\n",
       "Prob(Omnibus):                  0.000   Jarque-Bera (JB):          2627203.151\n",
       "Skew:                           3.509   Prob(JB):                         0.00\n",
       "Kurtosis:                      67.261   Cond. No.                     2.66e+05\n",
       "==============================================================================\n",
       "\n",
       "Warnings:\n",
       "[1] Standard Errors assume that the covariance matrix of the errors is correctly specified.\n",
       "[2] The condition number is large, 2.66e+05. This might indicate that there are\n",
       "strong multicollinearity or other numerical problems.\n",
       "\"\"\""
      ]
     },
     "execution_count": 51,
     "metadata": {},
     "output_type": "execute_result"
    }
   ],
   "source": [
    "#create field for votes in thousands\n",
    "df['votes_thou'] = df['votes']/1000\n",
    "\n",
    "#multiple linear regression of US gross income (millions) predicted by average vote, votes, year, and duration\n",
    "formula = 'usa_gross_clean_mil ~  avg_vote+ votes_thou + year + duration'\n",
    "model = smf.ols(formula, data=df)\n",
    "results = model.fit()\n",
    "results.summary()"
   ]
  },
  {
   "cell_type": "code",
   "execution_count": 55,
   "metadata": {},
   "outputs": [
    {
     "data": {
      "text/html": [
       "<table class=\"simpletable\">\n",
       "<caption>OLS Regression Results</caption>\n",
       "<tr>\n",
       "  <th>Dep. Variable:</th>    <td>usa_gross_clean_mil</td> <th>  R-squared:         </th> <td>   0.437</td> \n",
       "</tr>\n",
       "<tr>\n",
       "  <th>Model:</th>                    <td>OLS</td>         <th>  Adj. R-squared:    </th> <td>   0.437</td> \n",
       "</tr>\n",
       "<tr>\n",
       "  <th>Method:</th>              <td>Least Squares</td>    <th>  F-statistic:       </th> <td>   1933.</td> \n",
       "</tr>\n",
       "<tr>\n",
       "  <th>Date:</th>              <td>Sat, 08 Aug 2020</td>   <th>  Prob (F-statistic):</th>  <td>  0.00</td>  \n",
       "</tr>\n",
       "<tr>\n",
       "  <th>Time:</th>                  <td>15:35:46</td>       <th>  Log-Likelihood:    </th> <td> -51611.</td> \n",
       "</tr>\n",
       "<tr>\n",
       "  <th>No. Observations:</th>       <td>  9967</td>        <th>  AIC:               </th> <td>1.032e+05</td>\n",
       "</tr>\n",
       "<tr>\n",
       "  <th>Df Residuals:</th>           <td>  9962</td>        <th>  BIC:               </th> <td>1.033e+05</td>\n",
       "</tr>\n",
       "<tr>\n",
       "  <th>Df Model:</th>               <td>     4</td>        <th>                     </th>     <td> </td>    \n",
       "</tr>\n",
       "<tr>\n",
       "  <th>Covariance Type:</th>       <td>nonrobust</td>      <th>                     </th>     <td> </td>    \n",
       "</tr>\n",
       "</table>\n",
       "<table class=\"simpletable\">\n",
       "<tr>\n",
       "       <td></td>         <th>coef</th>     <th>std err</th>      <th>t</th>      <th>P>|t|</th>  <th>[0.025</th>    <th>0.975]</th>  \n",
       "</tr>\n",
       "<tr>\n",
       "  <th>Intercept</th>  <td>   30.7991</td> <td>    3.592</td> <td>    8.574</td> <td> 0.000</td> <td>   23.757</td> <td>   37.841</td>\n",
       "</tr>\n",
       "<tr>\n",
       "  <th>avg_vote</th>   <td>   -5.2980</td> <td>    0.692</td> <td>   -7.661</td> <td> 0.000</td> <td>   -6.654</td> <td>   -3.942</td>\n",
       "</tr>\n",
       "<tr>\n",
       "  <th>votes_thou</th> <td>    0.2842</td> <td>    0.003</td> <td>   82.268</td> <td> 0.000</td> <td>    0.277</td> <td>    0.291</td>\n",
       "</tr>\n",
       "<tr>\n",
       "  <th>duration</th>   <td>    0.1600</td> <td>    0.022</td> <td>    7.206</td> <td> 0.000</td> <td>    0.116</td> <td>    0.204</td>\n",
       "</tr>\n",
       "<tr>\n",
       "  <th>metascore</th>  <td>   -0.0745</td> <td>    0.034</td> <td>   -2.162</td> <td> 0.031</td> <td>   -0.142</td> <td>   -0.007</td>\n",
       "</tr>\n",
       "</table>\n",
       "<table class=\"simpletable\">\n",
       "<tr>\n",
       "  <th>Omnibus:</th>       <td>7738.767</td> <th>  Durbin-Watson:     </th>  <td>   1.887</td> \n",
       "</tr>\n",
       "<tr>\n",
       "  <th>Prob(Omnibus):</th>  <td> 0.000</td>  <th>  Jarque-Bera (JB):  </th> <td>822664.824</td>\n",
       "</tr>\n",
       "<tr>\n",
       "  <th>Skew:</th>           <td> 3.027</td>  <th>  Prob(JB):          </th>  <td>    0.00</td> \n",
       "</tr>\n",
       "<tr>\n",
       "  <th>Kurtosis:</th>       <td>47.094</td>  <th>  Cond. No.          </th>  <td>1.42e+03</td> \n",
       "</tr>\n",
       "</table><br/><br/>Warnings:<br/>[1] Standard Errors assume that the covariance matrix of the errors is correctly specified.<br/>[2] The condition number is large, 1.42e+03. This might indicate that there are<br/>strong multicollinearity or other numerical problems."
      ],
      "text/plain": [
       "<class 'statsmodels.iolib.summary.Summary'>\n",
       "\"\"\"\n",
       "                             OLS Regression Results                            \n",
       "===============================================================================\n",
       "Dep. Variable:     usa_gross_clean_mil   R-squared:                       0.437\n",
       "Model:                             OLS   Adj. R-squared:                  0.437\n",
       "Method:                  Least Squares   F-statistic:                     1933.\n",
       "Date:                 Sat, 08 Aug 2020   Prob (F-statistic):               0.00\n",
       "Time:                         15:35:46   Log-Likelihood:                -51611.\n",
       "No. Observations:                 9967   AIC:                         1.032e+05\n",
       "Df Residuals:                     9962   BIC:                         1.033e+05\n",
       "Df Model:                            4                                         \n",
       "Covariance Type:             nonrobust                                         \n",
       "==============================================================================\n",
       "                 coef    std err          t      P>|t|      [0.025      0.975]\n",
       "------------------------------------------------------------------------------\n",
       "Intercept     30.7991      3.592      8.574      0.000      23.757      37.841\n",
       "avg_vote      -5.2980      0.692     -7.661      0.000      -6.654      -3.942\n",
       "votes_thou     0.2842      0.003     82.268      0.000       0.277       0.291\n",
       "duration       0.1600      0.022      7.206      0.000       0.116       0.204\n",
       "metascore     -0.0745      0.034     -2.162      0.031      -0.142      -0.007\n",
       "==============================================================================\n",
       "Omnibus:                     7738.767   Durbin-Watson:                   1.887\n",
       "Prob(Omnibus):                  0.000   Jarque-Bera (JB):           822664.824\n",
       "Skew:                           3.027   Prob(JB):                         0.00\n",
       "Kurtosis:                      47.094   Cond. No.                     1.42e+03\n",
       "==============================================================================\n",
       "\n",
       "Warnings:\n",
       "[1] Standard Errors assume that the covariance matrix of the errors is correctly specified.\n",
       "[2] The condition number is large, 1.42e+03. This might indicate that there are\n",
       "strong multicollinearity or other numerical problems.\n",
       "\"\"\""
      ]
     },
     "execution_count": 55,
     "metadata": {},
     "output_type": "execute_result"
    }
   ],
   "source": [
    "df['votes_thou'] = df['votes']/1000\n",
    "\n",
    "#multiple linear regression of US gross income (millions) predicted by average vote, votes, and duration\n",
    "formula = 'usa_gross_clean_mil ~ avg_vote+ votes_thou + duration'\n",
    "model = smf.ols(formula, data=df)\n",
    "results = model.fit()\n",
    "results.summary()"
   ]
  },
  {
   "cell_type": "code",
   "execution_count": 54,
   "metadata": {},
   "outputs": [
    {
     "data": {
      "text/html": [
       "<table class=\"simpletable\">\n",
       "<caption>OLS Regression Results</caption>\n",
       "<tr>\n",
       "  <th>Dep. Variable:</th>        <td>avg_vote</td>     <th>  R-squared:         </th> <td>   0.154</td> \n",
       "</tr>\n",
       "<tr>\n",
       "  <th>Model:</th>                   <td>OLS</td>       <th>  Adj. R-squared:    </th> <td>   0.153</td> \n",
       "</tr>\n",
       "<tr>\n",
       "  <th>Method:</th>             <td>Least Squares</td>  <th>  F-statistic:       </th> <td>   912.9</td> \n",
       "</tr>\n",
       "<tr>\n",
       "  <th>Date:</th>             <td>Sat, 08 Aug 2020</td> <th>  Prob (F-statistic):</th>  <td>  0.00</td>  \n",
       "</tr>\n",
       "<tr>\n",
       "  <th>Time:</th>                 <td>15:32:35</td>     <th>  Log-Likelihood:    </th> <td> -20436.</td> \n",
       "</tr>\n",
       "<tr>\n",
       "  <th>No. Observations:</th>      <td> 15089</td>      <th>  AIC:               </th> <td>4.088e+04</td>\n",
       "</tr>\n",
       "<tr>\n",
       "  <th>Df Residuals:</th>          <td> 15085</td>      <th>  BIC:               </th> <td>4.091e+04</td>\n",
       "</tr>\n",
       "<tr>\n",
       "  <th>Df Model:</th>              <td>     3</td>      <th>                     </th>     <td> </td>    \n",
       "</tr>\n",
       "<tr>\n",
       "  <th>Covariance Type:</th>      <td>nonrobust</td>    <th>                     </th>     <td> </td>    \n",
       "</tr>\n",
       "</table>\n",
       "<table class=\"simpletable\">\n",
       "<tr>\n",
       "           <td></td>              <th>coef</th>     <th>std err</th>      <th>t</th>      <th>P>|t|</th>  <th>[0.025</th>    <th>0.975]</th>  \n",
       "</tr>\n",
       "<tr>\n",
       "  <th>Intercept</th>           <td>    5.0841</td> <td>    0.039</td> <td>  130.702</td> <td> 0.000</td> <td>    5.008</td> <td>    5.160</td>\n",
       "</tr>\n",
       "<tr>\n",
       "  <th>usa_gross_clean_mil</th> <td>   -0.0021</td> <td>    0.000</td> <td>   -9.964</td> <td> 0.000</td> <td>   -0.003</td> <td>   -0.002</td>\n",
       "</tr>\n",
       "<tr>\n",
       "  <th>votes_thou</th>          <td>    0.0030</td> <td> 9.12e-05</td> <td>   33.260</td> <td> 0.000</td> <td>    0.003</td> <td>    0.003</td>\n",
       "</tr>\n",
       "<tr>\n",
       "  <th>duration</th>            <td>    0.0106</td> <td>    0.000</td> <td>   28.938</td> <td> 0.000</td> <td>    0.010</td> <td>    0.011</td>\n",
       "</tr>\n",
       "</table>\n",
       "<table class=\"simpletable\">\n",
       "<tr>\n",
       "  <th>Omnibus:</th>       <td>2349.975</td> <th>  Durbin-Watson:     </th> <td>   1.912</td>\n",
       "</tr>\n",
       "<tr>\n",
       "  <th>Prob(Omnibus):</th>  <td> 0.000</td>  <th>  Jarque-Bera (JB):  </th> <td>4508.589</td>\n",
       "</tr>\n",
       "<tr>\n",
       "  <th>Skew:</th>           <td>-0.972</td>  <th>  Prob(JB):          </th> <td>    0.00</td>\n",
       "</tr>\n",
       "<tr>\n",
       "  <th>Kurtosis:</th>       <td> 4.842</td>  <th>  Cond. No.          </th> <td>    725.</td>\n",
       "</tr>\n",
       "</table><br/><br/>Warnings:<br/>[1] Standard Errors assume that the covariance matrix of the errors is correctly specified."
      ],
      "text/plain": [
       "<class 'statsmodels.iolib.summary.Summary'>\n",
       "\"\"\"\n",
       "                            OLS Regression Results                            \n",
       "==============================================================================\n",
       "Dep. Variable:               avg_vote   R-squared:                       0.154\n",
       "Model:                            OLS   Adj. R-squared:                  0.153\n",
       "Method:                 Least Squares   F-statistic:                     912.9\n",
       "Date:                Sat, 08 Aug 2020   Prob (F-statistic):               0.00\n",
       "Time:                        15:32:35   Log-Likelihood:                -20436.\n",
       "No. Observations:               15089   AIC:                         4.088e+04\n",
       "Df Residuals:                   15085   BIC:                         4.091e+04\n",
       "Df Model:                           3                                         \n",
       "Covariance Type:            nonrobust                                         \n",
       "=======================================================================================\n",
       "                          coef    std err          t      P>|t|      [0.025      0.975]\n",
       "---------------------------------------------------------------------------------------\n",
       "Intercept               5.0841      0.039    130.702      0.000       5.008       5.160\n",
       "usa_gross_clean_mil    -0.0021      0.000     -9.964      0.000      -0.003      -0.002\n",
       "votes_thou              0.0030   9.12e-05     33.260      0.000       0.003       0.003\n",
       "duration                0.0106      0.000     28.938      0.000       0.010       0.011\n",
       "==============================================================================\n",
       "Omnibus:                     2349.975   Durbin-Watson:                   1.912\n",
       "Prob(Omnibus):                  0.000   Jarque-Bera (JB):             4508.589\n",
       "Skew:                          -0.972   Prob(JB):                         0.00\n",
       "Kurtosis:                       4.842   Cond. No.                         725.\n",
       "==============================================================================\n",
       "\n",
       "Warnings:\n",
       "[1] Standard Errors assume that the covariance matrix of the errors is correctly specified.\n",
       "\"\"\""
      ]
     },
     "execution_count": 54,
     "metadata": {},
     "output_type": "execute_result"
    }
   ],
   "source": [
    "df['votes_thou'] = df['votes']/1000\n",
    "\n",
    "#multiple linear regression of average vote predicted by US gross income (millions), votes, and duration\n",
    "formula = 'avg_vote ~ usa_gross_clean_mil + votes_thou + duration'\n",
    "model = smf.ols(formula, data=df)\n",
    "results = model.fit()\n",
    "results.summary()"
   ]
  },
  {
   "cell_type": "code",
   "execution_count": null,
   "metadata": {},
   "outputs": [],
   "source": []
  }
 ],
 "metadata": {
  "kernelspec": {
   "display_name": "Python 3",
   "language": "python",
   "name": "python3"
  },
  "language_info": {
   "codemirror_mode": {
    "name": "ipython",
    "version": 3
   },
   "file_extension": ".py",
   "mimetype": "text/x-python",
   "name": "python",
   "nbconvert_exporter": "python",
   "pygments_lexer": "ipython3",
   "version": "3.7.6"
  }
 },
 "nbformat": 4,
 "nbformat_minor": 4
}
