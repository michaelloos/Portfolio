{
 "cells": [
  {
   "cell_type": "code",
   "execution_count": 6,
   "metadata": {},
   "outputs": [
    {
     "ename": "ApiException",
     "evalue": "(401)\nReason: Unauthorized\nHTTP response headers: HTTPHeaderDict({'Server': 'nginx/1.18.0 (Ubuntu)', 'Date': 'Fri, 09 Apr 2021 01:43:08 GMT', 'Content-Type': 'text/plain; charset=utf-8', 'Content-Length': '12', 'Connection': 'keep-alive', 'X-DNS-Prefetch-Control': 'off', 'Expect-CT': 'max-age=0', 'X-Frame-Options': 'SAMEORIGIN', 'Strict-Transport-Security': 'max-age=15552000; includeSubDomains', 'X-Download-Options': 'noopen', 'X-Content-Type-Options': 'nosniff', 'X-Permitted-Cross-Domain-Policies': 'none', 'Referrer-Policy': 'no-referrer', 'X-XSS-Protection': '0', 'Vary': 'Origin', 'ETag': 'W/\"c-dAuDFQrdjS3hezqxDTNgW7AOlYk\"'})\nHTTP response body: Unauthorized\n",
     "output_type": "error",
     "traceback": [
      "\u001b[1;31m---------------------------------------------------------------------------\u001b[0m",
      "\u001b[1;31mApiException\u001b[0m                              Traceback (most recent call last)",
      "\u001b[1;32m<ipython-input-6-ee19a078f26c>\u001b[0m in \u001b[0;36m<module>\u001b[1;34m\u001b[0m\n\u001b[0;32m     11\u001b[0m \u001b[1;33m\u001b[0m\u001b[0m\n\u001b[0;32m     12\u001b[0m \u001b[0mapi_instance\u001b[0m \u001b[1;33m=\u001b[0m \u001b[0mcfbd\u001b[0m\u001b[1;33m.\u001b[0m\u001b[0mGamesApi\u001b[0m\u001b[1;33m(\u001b[0m\u001b[0mcfbd\u001b[0m\u001b[1;33m.\u001b[0m\u001b[0mApiClient\u001b[0m\u001b[1;33m(\u001b[0m\u001b[0mconfiguration\u001b[0m\u001b[1;33m)\u001b[0m\u001b[1;33m)\u001b[0m\u001b[1;33m\u001b[0m\u001b[1;33m\u001b[0m\u001b[0m\n\u001b[1;32m---> 13\u001b[1;33m \u001b[0mgames\u001b[0m \u001b[1;33m=\u001b[0m \u001b[0mapi_instance\u001b[0m\u001b[1;33m.\u001b[0m\u001b[0mget_games\u001b[0m\u001b[1;33m(\u001b[0m\u001b[0myear\u001b[0m\u001b[1;33m=\u001b[0m\u001b[1;36m2020\u001b[0m\u001b[1;33m)\u001b[0m\u001b[1;33m\u001b[0m\u001b[1;33m\u001b[0m\u001b[0m\n\u001b[0m",
      "\u001b[1;32m~\\Anaconda\\lib\\site-packages\\cfbd\\api\\games_api.py\u001b[0m in \u001b[0;36mget_games\u001b[1;34m(self, year, **kwargs)\u001b[0m\n\u001b[0;32m    369\u001b[0m             \u001b[1;32mreturn\u001b[0m \u001b[0mself\u001b[0m\u001b[1;33m.\u001b[0m\u001b[0mget_games_with_http_info\u001b[0m\u001b[1;33m(\u001b[0m\u001b[0myear\u001b[0m\u001b[1;33m,\u001b[0m \u001b[1;33m**\u001b[0m\u001b[0mkwargs\u001b[0m\u001b[1;33m)\u001b[0m  \u001b[1;31m# noqa: E501\u001b[0m\u001b[1;33m\u001b[0m\u001b[1;33m\u001b[0m\u001b[0m\n\u001b[0;32m    370\u001b[0m         \u001b[1;32melse\u001b[0m\u001b[1;33m:\u001b[0m\u001b[1;33m\u001b[0m\u001b[1;33m\u001b[0m\u001b[0m\n\u001b[1;32m--> 371\u001b[1;33m             \u001b[1;33m(\u001b[0m\u001b[0mdata\u001b[0m\u001b[1;33m)\u001b[0m \u001b[1;33m=\u001b[0m \u001b[0mself\u001b[0m\u001b[1;33m.\u001b[0m\u001b[0mget_games_with_http_info\u001b[0m\u001b[1;33m(\u001b[0m\u001b[0myear\u001b[0m\u001b[1;33m,\u001b[0m \u001b[1;33m**\u001b[0m\u001b[0mkwargs\u001b[0m\u001b[1;33m)\u001b[0m  \u001b[1;31m# noqa: E501\u001b[0m\u001b[1;33m\u001b[0m\u001b[1;33m\u001b[0m\u001b[0m\n\u001b[0m\u001b[0;32m    372\u001b[0m             \u001b[1;32mreturn\u001b[0m \u001b[0mdata\u001b[0m\u001b[1;33m\u001b[0m\u001b[1;33m\u001b[0m\u001b[0m\n\u001b[0;32m    373\u001b[0m \u001b[1;33m\u001b[0m\u001b[0m\n",
      "\u001b[1;32m~\\Anaconda\\lib\\site-packages\\cfbd\\api\\games_api.py\u001b[0m in \u001b[0;36mget_games_with_http_info\u001b[1;34m(self, year, **kwargs)\u001b[0m\n\u001b[0;32m    456\u001b[0m         \u001b[0mauth_settings\u001b[0m \u001b[1;33m=\u001b[0m \u001b[1;33m[\u001b[0m\u001b[1;34m'ApiKeyAuth'\u001b[0m\u001b[1;33m]\u001b[0m  \u001b[1;31m# noqa: E501\u001b[0m\u001b[1;33m\u001b[0m\u001b[1;33m\u001b[0m\u001b[0m\n\u001b[0;32m    457\u001b[0m \u001b[1;33m\u001b[0m\u001b[0m\n\u001b[1;32m--> 458\u001b[1;33m         return self.api_client.call_api(\n\u001b[0m\u001b[0;32m    459\u001b[0m             \u001b[1;34m'/games'\u001b[0m\u001b[1;33m,\u001b[0m \u001b[1;34m'GET'\u001b[0m\u001b[1;33m,\u001b[0m\u001b[1;33m\u001b[0m\u001b[1;33m\u001b[0m\u001b[0m\n\u001b[0;32m    460\u001b[0m             \u001b[0mpath_params\u001b[0m\u001b[1;33m,\u001b[0m\u001b[1;33m\u001b[0m\u001b[1;33m\u001b[0m\u001b[0m\n",
      "\u001b[1;32m~\\Anaconda\\lib\\site-packages\\cfbd\\api_client.py\u001b[0m in \u001b[0;36mcall_api\u001b[1;34m(self, resource_path, method, path_params, query_params, header_params, body, post_params, files, response_type, auth_settings, async_req, _return_http_data_only, collection_formats, _preload_content, _request_timeout)\u001b[0m\n\u001b[0;32m    324\u001b[0m         \"\"\"\n\u001b[0;32m    325\u001b[0m         \u001b[1;32mif\u001b[0m \u001b[1;32mnot\u001b[0m \u001b[0masync_req\u001b[0m\u001b[1;33m:\u001b[0m\u001b[1;33m\u001b[0m\u001b[1;33m\u001b[0m\u001b[0m\n\u001b[1;32m--> 326\u001b[1;33m             return self.__call_api(resource_path, method,\n\u001b[0m\u001b[0;32m    327\u001b[0m                                    \u001b[0mpath_params\u001b[0m\u001b[1;33m,\u001b[0m \u001b[0mquery_params\u001b[0m\u001b[1;33m,\u001b[0m \u001b[0mheader_params\u001b[0m\u001b[1;33m,\u001b[0m\u001b[1;33m\u001b[0m\u001b[1;33m\u001b[0m\u001b[0m\n\u001b[0;32m    328\u001b[0m                                    \u001b[0mbody\u001b[0m\u001b[1;33m,\u001b[0m \u001b[0mpost_params\u001b[0m\u001b[1;33m,\u001b[0m \u001b[0mfiles\u001b[0m\u001b[1;33m,\u001b[0m\u001b[1;33m\u001b[0m\u001b[1;33m\u001b[0m\u001b[0m\n",
      "\u001b[1;32m~\\Anaconda\\lib\\site-packages\\cfbd\\api_client.py\u001b[0m in \u001b[0;36m__call_api\u001b[1;34m(self, resource_path, method, path_params, query_params, header_params, body, post_params, files, response_type, auth_settings, _return_http_data_only, collection_formats, _preload_content, _request_timeout)\u001b[0m\n\u001b[0;32m    156\u001b[0m \u001b[1;33m\u001b[0m\u001b[0m\n\u001b[0;32m    157\u001b[0m         \u001b[1;31m# perform request and return response\u001b[0m\u001b[1;33m\u001b[0m\u001b[1;33m\u001b[0m\u001b[1;33m\u001b[0m\u001b[0m\n\u001b[1;32m--> 158\u001b[1;33m         response_data = self.request(\n\u001b[0m\u001b[0;32m    159\u001b[0m             \u001b[0mmethod\u001b[0m\u001b[1;33m,\u001b[0m \u001b[0murl\u001b[0m\u001b[1;33m,\u001b[0m \u001b[0mquery_params\u001b[0m\u001b[1;33m=\u001b[0m\u001b[0mquery_params\u001b[0m\u001b[1;33m,\u001b[0m \u001b[0mheaders\u001b[0m\u001b[1;33m=\u001b[0m\u001b[0mheader_params\u001b[0m\u001b[1;33m,\u001b[0m\u001b[1;33m\u001b[0m\u001b[1;33m\u001b[0m\u001b[0m\n\u001b[0;32m    160\u001b[0m             \u001b[0mpost_params\u001b[0m\u001b[1;33m=\u001b[0m\u001b[0mpost_params\u001b[0m\u001b[1;33m,\u001b[0m \u001b[0mbody\u001b[0m\u001b[1;33m=\u001b[0m\u001b[0mbody\u001b[0m\u001b[1;33m,\u001b[0m\u001b[1;33m\u001b[0m\u001b[1;33m\u001b[0m\u001b[0m\n",
      "\u001b[1;32m~\\Anaconda\\lib\\site-packages\\cfbd\\api_client.py\u001b[0m in \u001b[0;36mrequest\u001b[1;34m(self, method, url, query_params, headers, post_params, body, _preload_content, _request_timeout)\u001b[0m\n\u001b[0;32m    346\u001b[0m         \u001b[1;34m\"\"\"Makes the HTTP request using RESTClient.\"\"\"\u001b[0m\u001b[1;33m\u001b[0m\u001b[1;33m\u001b[0m\u001b[0m\n\u001b[0;32m    347\u001b[0m         \u001b[1;32mif\u001b[0m \u001b[0mmethod\u001b[0m \u001b[1;33m==\u001b[0m \u001b[1;34m\"GET\"\u001b[0m\u001b[1;33m:\u001b[0m\u001b[1;33m\u001b[0m\u001b[1;33m\u001b[0m\u001b[0m\n\u001b[1;32m--> 348\u001b[1;33m             return self.rest_client.GET(url,\n\u001b[0m\u001b[0;32m    349\u001b[0m                                         \u001b[0mquery_params\u001b[0m\u001b[1;33m=\u001b[0m\u001b[0mquery_params\u001b[0m\u001b[1;33m,\u001b[0m\u001b[1;33m\u001b[0m\u001b[1;33m\u001b[0m\u001b[0m\n\u001b[0;32m    350\u001b[0m                                         \u001b[0m_preload_content\u001b[0m\u001b[1;33m=\u001b[0m\u001b[0m_preload_content\u001b[0m\u001b[1;33m,\u001b[0m\u001b[1;33m\u001b[0m\u001b[1;33m\u001b[0m\u001b[0m\n",
      "\u001b[1;32m~\\Anaconda\\lib\\site-packages\\cfbd\\rest.py\u001b[0m in \u001b[0;36mGET\u001b[1;34m(self, url, headers, query_params, _preload_content, _request_timeout)\u001b[0m\n\u001b[0;32m    232\u001b[0m     def GET(self, url, headers=None, query_params=None, _preload_content=True,\n\u001b[0;32m    233\u001b[0m             _request_timeout=None):\n\u001b[1;32m--> 234\u001b[1;33m         return self.request(\"GET\", url,\n\u001b[0m\u001b[0;32m    235\u001b[0m                             \u001b[0mheaders\u001b[0m\u001b[1;33m=\u001b[0m\u001b[0mheaders\u001b[0m\u001b[1;33m,\u001b[0m\u001b[1;33m\u001b[0m\u001b[1;33m\u001b[0m\u001b[0m\n\u001b[0;32m    236\u001b[0m                             \u001b[0m_preload_content\u001b[0m\u001b[1;33m=\u001b[0m\u001b[0m_preload_content\u001b[0m\u001b[1;33m,\u001b[0m\u001b[1;33m\u001b[0m\u001b[1;33m\u001b[0m\u001b[0m\n",
      "\u001b[1;32m~\\Anaconda\\lib\\site-packages\\cfbd\\rest.py\u001b[0m in \u001b[0;36mrequest\u001b[1;34m(self, method, url, query_params, headers, body, post_params, _preload_content, _request_timeout)\u001b[0m\n\u001b[0;32m    226\u001b[0m \u001b[1;33m\u001b[0m\u001b[0m\n\u001b[0;32m    227\u001b[0m         \u001b[1;32mif\u001b[0m \u001b[1;32mnot\u001b[0m \u001b[1;36m200\u001b[0m \u001b[1;33m<=\u001b[0m \u001b[0mr\u001b[0m\u001b[1;33m.\u001b[0m\u001b[0mstatus\u001b[0m \u001b[1;33m<=\u001b[0m \u001b[1;36m299\u001b[0m\u001b[1;33m:\u001b[0m\u001b[1;33m\u001b[0m\u001b[1;33m\u001b[0m\u001b[0m\n\u001b[1;32m--> 228\u001b[1;33m             \u001b[1;32mraise\u001b[0m \u001b[0mApiException\u001b[0m\u001b[1;33m(\u001b[0m\u001b[0mhttp_resp\u001b[0m\u001b[1;33m=\u001b[0m\u001b[0mr\u001b[0m\u001b[1;33m)\u001b[0m\u001b[1;33m\u001b[0m\u001b[1;33m\u001b[0m\u001b[0m\n\u001b[0m\u001b[0;32m    229\u001b[0m \u001b[1;33m\u001b[0m\u001b[0m\n\u001b[0;32m    230\u001b[0m         \u001b[1;32mreturn\u001b[0m \u001b[0mr\u001b[0m\u001b[1;33m\u001b[0m\u001b[1;33m\u001b[0m\u001b[0m\n",
      "\u001b[1;31mApiException\u001b[0m: (401)\nReason: Unauthorized\nHTTP response headers: HTTPHeaderDict({'Server': 'nginx/1.18.0 (Ubuntu)', 'Date': 'Fri, 09 Apr 2021 01:43:08 GMT', 'Content-Type': 'text/plain; charset=utf-8', 'Content-Length': '12', 'Connection': 'keep-alive', 'X-DNS-Prefetch-Control': 'off', 'Expect-CT': 'max-age=0', 'X-Frame-Options': 'SAMEORIGIN', 'Strict-Transport-Security': 'max-age=15552000; includeSubDomains', 'X-Download-Options': 'noopen', 'X-Content-Type-Options': 'nosniff', 'X-Permitted-Cross-Domain-Policies': 'none', 'Referrer-Policy': 'no-referrer', 'X-XSS-Protection': '0', 'Vary': 'Origin', 'ETag': 'W/\"c-dAuDFQrdjS3hezqxDTNgW7AOlYk\"'})\nHTTP response body: Unauthorized\n"
     ]
    }
   ],
   "source": [
    "from __future__ import print_function\n",
    "import time\n",
    "import cfbd\n",
    "from cfbd.rest import ApiException\n",
    "from pprint import pprint\n",
    "\n",
    "# Configure API key authorization: ApiKeyAuth\n",
    "configuration = cfbd.Configuration()\n",
    "configuration.api_key['Authorization'] = '1KNgWjrFWdNVrX9As1/Lj0W8v2Ml8VJOxwuU18wgn1lszTZZ9RF6OZiMzvooWf7q'\n",
    "configuration.api_key_prefix['Authorization'] = 'Bearer'\n",
    "\n",
    "api_instance = cfbd.GamesApi(cfbd.ApiClient(configuration))\n",
    "games = api_instance.get_games(year=2020)"
   ]
  },
  {
   "cell_type": "code",
   "execution_count": 3,
   "metadata": {},
   "outputs": [
    {
     "name": "stdout",
     "output_type": "stream",
     "text": [
      "Exception when calling BettingApi->get_lines: (401)\n",
      "Reason: Unauthorized\n",
      "HTTP response headers: HTTPHeaderDict({'Server': 'nginx/1.18.0 (Ubuntu)', 'Date': 'Fri, 09 Apr 2021 01:41:08 GMT', 'Content-Type': 'text/plain; charset=utf-8', 'Content-Length': '12', 'Connection': 'keep-alive', 'X-DNS-Prefetch-Control': 'off', 'Expect-CT': 'max-age=0', 'X-Frame-Options': 'SAMEORIGIN', 'Strict-Transport-Security': 'max-age=15552000; includeSubDomains', 'X-Download-Options': 'noopen', 'X-Content-Type-Options': 'nosniff', 'X-Permitted-Cross-Domain-Policies': 'none', 'Referrer-Policy': 'no-referrer', 'X-XSS-Protection': '0', 'Vary': 'Origin', 'ETag': 'W/\"c-dAuDFQrdjS3hezqxDTNgW7AOlYk\"'})\n",
      "HTTP response body: Unauthorized\n",
      "\n",
      "\n"
     ]
    }
   ],
   "source": [
    "from __future__ import print_function\n",
    "import time\n",
    "import cfbd\n",
    "from cfbd.rest import ApiException\n",
    "from pprint import pprint\n",
    "\n",
    "# Configure API key authorization: ApiKeyAuth\n",
    "configuration = cfbd.Configuration()\n",
    "configuration.api_key['Bearer'] = '1KNgWjrFWdNVrX9As1/Lj0W8v2Ml8VJOxwuU18wgn1lszTZZ9RF6OZiMzvooWf7q'\n",
    "configuration.api_key_prefix['Authorization'] = 'Bearer'\n",
    "# Uncomment below to setup prefix (e.g. Bearer) for API key, if needed\n",
    "# configuration.api_key_prefix['Bearer'] = 'Bearer'\n",
    "\n",
    "# create an instance of the API class\n",
    "api_instance = cfbd.BettingApi(cfbd.ApiClient(configuration))\n",
    "game_id = 56 # int | Game id filter (optional)\n",
    "year = 2019 # int | Year/season filter for games (optional)\n",
    "week = 2 # int | Week filter (optional)\n",
    "season_type = 'regular' # str | Season type filter (regular or postseason) (optional) (default to regular)\n",
    "team = 'team_example' # str | Team (optional)\n",
    "home = 'home_example' # str | Home team filter (optional)\n",
    "away = 'away_example' # str | Away team filter (optional)\n",
    "conference = 'conference_example' # str | Conference abbreviation filter (optional)\n",
    "\n",
    "try:\n",
    "    # Betting lines\n",
    "#     api_response = api_instance.get_lines(game_id=game_id, year=year, week=week, season_type=season_type, team=team, home=home, away=away, conference=conference)\n",
    "    api_response = api_instance.get_lines(year=year, season_type=season_type)\n",
    "    pprint(api_response)\n",
    "except ApiException as e:\n",
    "    print(\"Exception when calling BettingApi->get_lines: %s\\n\" % e)\n",
    "    "
   ]
  },
  {
   "cell_type": "code",
   "execution_count": 71,
   "metadata": {},
   "outputs": [
    {
     "data": {
      "text/plain": [
       "{'away_conference': 'Sun Belt',\n",
       " 'away_score': 38,\n",
       " 'away_team': 'Coastal Carolina',\n",
       " 'home_conference': 'Big 12',\n",
       " 'home_score': 23,\n",
       " 'home_team': 'Kansas',\n",
       " 'id': 401236658,\n",
       " 'lines': [{'formattedSpread': 'Kansas -5.5',\n",
       "            'overUnder': '56.5',\n",
       "            'provider': 'teamrankings',\n",
       "            'spread': '-5.5'},\n",
       "           {'formattedSpread': 'Kansas -5.5',\n",
       "            'overUnder': '55.5',\n",
       "            'provider': 'numberfire',\n",
       "            'spread': '-5.5'},\n",
       "           {'formattedSpread': 'Kansas -6',\n",
       "            'overUnder': '55.5',\n",
       "            'provider': 'consensus',\n",
       "            'spread': '-6'},\n",
       "           {'formattedSpread': 'Kansas -6',\n",
       "            'overUnder': '56',\n",
       "            'provider': 'Caesars',\n",
       "            'spread': '-6'},\n",
       "           {'formattedSpread': 'Kansas -6.5',\n",
       "            'overUnder': '55.0',\n",
       "            'provider': 'Bovada',\n",
       "            'spread': '-6.5'}],\n",
       " 'season': 2020,\n",
       " 'season_type': 'regular',\n",
       " 'week': 2}"
      ]
     },
     "execution_count": 71,
     "metadata": {},
     "output_type": "execute_result"
    }
   ],
   "source": [
    "test = api_response[1]\n",
    "test"
   ]
  },
  {
   "cell_type": "code",
   "execution_count": 99,
   "metadata": {},
   "outputs": [
    {
     "name": "stdout",
     "output_type": "stream",
     "text": [
      "Week: 2\n",
      "Home team: Colorado \n",
      "Away team: Nebraska\n",
      "Spread: 4.5\n",
      "Provider: Caesars\n",
      "-------------------------\n",
      "Week: 5\n",
      "Home team: Nebraska \n",
      "Away team: Ohio State\n",
      "Spread: 17\n",
      "Provider: Caesars\n",
      "-------------------------\n",
      "Week: 10\n",
      "Home team: Purdue \n",
      "Away team: Nebraska\n",
      "Spread: 4.5\n",
      "Provider: Bovada\n",
      "-------------------------\n",
      "Week: 12\n",
      "Home team: Nebraska \n",
      "Away team: Wisconsin\n",
      "Spread: 15.0\n",
      "Provider: Bovada\n",
      "-------------------------\n",
      "Week: 14\n",
      "Home team: Nebraska \n",
      "Away team: Iowa\n",
      "Spread: 4.5\n",
      "Provider: Bovada\n",
      "-------------------------\n",
      "Week: 3\n",
      "Home team: Nebraska \n",
      "Away team: Northern Illinois\n",
      "Spread: -14\n",
      "Provider: Caesars\n",
      "-------------------------\n",
      "Week: 4\n",
      "Home team: Illinois \n",
      "Away team: Nebraska\n",
      "Spread: 13.5\n",
      "Provider: Caesars\n",
      "-------------------------\n",
      "Week: 6\n",
      "Home team: Nebraska \n",
      "Away team: Northwestern\n",
      "Spread: -7.5\n",
      "Provider: Caesars\n",
      "-------------------------\n",
      "Week: 7\n",
      "Home team: Minnesota \n",
      "Away team: Nebraska\n",
      "Spread: -7.5\n",
      "Provider: Caesars\n",
      "-------------------------\n",
      "Week: 1\n",
      "Home team: Nebraska \n",
      "Away team: South Alabama\n",
      "Spread: -35.5\n",
      "Provider: Caesars\n",
      "-------------------------\n",
      "Week: 9\n",
      "Home team: Nebraska \n",
      "Away team: Indiana\n",
      "Spread: -2.5\n",
      "Provider: Caesars\n",
      "-------------------------\n",
      "Week: 13\n",
      "Home team: Maryland \n",
      "Away team: Nebraska\n",
      "Spread: 7.0\n",
      "Provider: Bovada\n",
      "-------------------------\n"
     ]
    }
   ],
   "source": [
    "for n in api_response:\n",
    "    if (n.home_team=='Nebraska' or n.away_team=='Nebraska'):\n",
    "        if len(n.lines) > 0: \n",
    "            print(f'Week: {n.week}\\nHome team: {n.home_team} \\nAway team: {n.away_team}\\nSpread: {n.lines[0][\"spread\"]}\\nProvider: {n.lines[0][\"provider\"]}')\n",
    "            print('-'*25)\n",
    "        else:\n",
    "            print(f'Home team: {n.home_team} \\nAway team: {n.away_team}\\nSpread: None        ')"
   ]
  },
  {
   "cell_type": "code",
   "execution_count": 95,
   "metadata": {},
   "outputs": [
    {
     "name": "stdout",
     "output_type": "stream",
     "text": [
      "Home team: Hawai'i \n",
      "Away team: Oregon State\n",
      "Spread: -7\n"
     ]
    },
    {
     "ename": "RuntimeError",
     "evalue": "coroutine raised StopIteration",
     "output_type": "error",
     "traceback": [
      "\u001b[1;31m---------------------------------------------------------------------------\u001b[0m",
      "\u001b[1;31mStopIteration\u001b[0m                             Traceback (most recent call last)",
      "\u001b[1;32m<ipython-input-95-663c467004ff>\u001b[0m in \u001b[0;36m<module>\u001b[1;34m\u001b[0m\n\u001b[0;32m      2\u001b[0m     \u001b[1;32mif\u001b[0m \u001b[0mlen\u001b[0m\u001b[1;33m(\u001b[0m\u001b[0mn\u001b[0m\u001b[1;33m.\u001b[0m\u001b[0mlines\u001b[0m\u001b[1;33m)\u001b[0m \u001b[1;33m>\u001b[0m \u001b[1;36m0\u001b[0m\u001b[1;33m:\u001b[0m\u001b[1;33m\u001b[0m\u001b[1;33m\u001b[0m\u001b[0m\n\u001b[1;32m----> 3\u001b[1;33m         \u001b[0mprint\u001b[0m\u001b[1;33m(\u001b[0m\u001b[1;34mf'Home team: {n.home_team} \\nAway team: {n.away_team}\\nSpread: {next(item[\"spread\"] for item in n.lines if item[\"provider\"] == \"Caesars\")}'\u001b[0m\u001b[1;33m)\u001b[0m\u001b[1;33m\u001b[0m\u001b[1;33m\u001b[0m\u001b[0m\n\u001b[0m",
      "\u001b[1;31mStopIteration\u001b[0m: ",
      "\nThe above exception was the direct cause of the following exception:\n",
      "\u001b[1;31mRuntimeError\u001b[0m                              Traceback (most recent call last)",
      "\u001b[1;31mRuntimeError\u001b[0m: coroutine raised StopIteration"
     ]
    }
   ],
   "source": [
    "for n in api_response:\n",
    "    if len(n.lines) > 0:\n",
    "        print(f'Home team: {n.home_team} \\nAway team: {n.away_team}\\nSpread: {next(item[\"spread\"] for item in n.lines if item[\"provider\"] == \"Caesars\")}')"
   ]
  },
  {
   "cell_type": "code",
   "execution_count": 26,
   "metadata": {},
   "outputs": [
    {
     "data": {
      "text/plain": [
       "[{'provider': 'teamrankings',\n",
       "  'spread': '-5.5',\n",
       "  'formattedSpread': 'Kansas -5.5',\n",
       "  'overUnder': '56.5'},\n",
       " {'provider': 'numberfire',\n",
       "  'spread': '-5.5',\n",
       "  'formattedSpread': 'Kansas -5.5',\n",
       "  'overUnder': '55.5'},\n",
       " {'provider': 'consensus',\n",
       "  'spread': '-6',\n",
       "  'formattedSpread': 'Kansas -6',\n",
       "  'overUnder': '55.5'},\n",
       " {'provider': 'Caesars',\n",
       "  'spread': '-6',\n",
       "  'formattedSpread': 'Kansas -6',\n",
       "  'overUnder': '56'},\n",
       " {'provider': 'Bovada',\n",
       "  'spread': '-6.5',\n",
       "  'formattedSpread': 'Kansas -6.5',\n",
       "  'overUnder': '55.0'}]"
      ]
     },
     "execution_count": 26,
     "metadata": {},
     "output_type": "execute_result"
    }
   ],
   "source": [
    "test.lines"
   ]
  },
  {
   "cell_type": "code",
   "execution_count": 18,
   "metadata": {},
   "outputs": [
    {
     "data": {
      "text/plain": [
       "'Kansas'"
      ]
     },
     "execution_count": 18,
     "metadata": {},
     "output_type": "execute_result"
    }
   ],
   "source": [
    "test.lines[]"
   ]
  },
  {
   "cell_type": "code",
   "execution_count": 38,
   "metadata": {},
   "outputs": [
    {
     "data": {
      "text/plain": [
       "{'provider': 'Bovada',\n",
       " 'spread': '-6.5',\n",
       " 'formattedSpread': 'Kansas -6.5',\n",
       " 'overUnder': '55.0'}"
      ]
     },
     "execution_count": 38,
     "metadata": {},
     "output_type": "execute_result"
    }
   ],
   "source": [
    "test2 = next(item for item in test.lines if item[\"provider\"] == \"Bovada\")\n",
    "test2"
   ]
  },
  {
   "cell_type": "code",
   "execution_count": 40,
   "metadata": {},
   "outputs": [
    {
     "data": {
      "text/plain": [
       "'-6.5'"
      ]
     },
     "execution_count": 40,
     "metadata": {},
     "output_type": "execute_result"
    }
   ],
   "source": [
    "test2['spread']"
   ]
  },
  {
   "cell_type": "code",
   "execution_count": 52,
   "metadata": {},
   "outputs": [
    {
     "data": {
      "text/plain": [
       "'-6.5'"
      ]
     },
     "execution_count": 52,
     "metadata": {},
     "output_type": "execute_result"
    }
   ],
   "source": [
    "next(item['spread'] for item in test.lines if item[\"provider\"] == \"Bovada\")"
   ]
  },
  {
   "cell_type": "code",
   "execution_count": 51,
   "metadata": {},
   "outputs": [
    {
     "name": "stdout",
     "output_type": "stream",
     "text": [
      "-6.5\n"
     ]
    }
   ],
   "source": [
    "for item in test.lines:\n",
    "    if item[\"provider\"] == \"Bovada\":\n",
    "        print(item['spread'])"
   ]
  },
  {
   "cell_type": "code",
   "execution_count": 54,
   "metadata": {},
   "outputs": [
    {
     "data": {
      "text/plain": [
       "'-16.0'"
      ]
     },
     "execution_count": 54,
     "metadata": {},
     "output_type": "execute_result"
    }
   ],
   "source": [
    "next(item['spread'] for item in n.lines if item[\"provider\"] == \"Bovada\")"
   ]
  },
  {
   "cell_type": "code",
   "execution_count": 55,
   "metadata": {},
   "outputs": [
    {
     "data": {
      "text/plain": [
       "'-16.0'"
      ]
     },
     "execution_count": 55,
     "metadata": {},
     "output_type": "execute_result"
    }
   ],
   "source": [
    "next(item['spread'] for item in n.lines if item[\"provider\"] == \"Bovada\")"
   ]
  },
  {
   "cell_type": "code",
   "execution_count": 57,
   "metadata": {},
   "outputs": [
    {
     "name": "stdout",
     "output_type": "stream",
     "text": [
      "[{'provider': 'Bovada', 'spread': '0.0', 'formattedSpread': 'Tarleton State -0.0', 'overUnder': '57.5'}]\n",
      "[{'provider': 'teamrankings', 'spread': '-5.5', 'formattedSpread': 'Kansas -5.5', 'overUnder': '56.5'}, {'provider': 'numberfire', 'spread': '-5.5', 'formattedSpread': 'Kansas -5.5', 'overUnder': '55.5'}, {'provider': 'consensus', 'spread': '-6', 'formattedSpread': 'Kansas -6', 'overUnder': '55.5'}, {'provider': 'Caesars', 'spread': '-6', 'formattedSpread': 'Kansas -6', 'overUnder': '56'}, {'provider': 'Bovada', 'spread': '-6.5', 'formattedSpread': 'Kansas -6.5', 'overUnder': '55.0'}]\n",
      "[{'provider': 'consensus', 'spread': '-40', 'formattedSpread': 'Texas Tech -40', 'overUnder': '81'}, {'provider': 'Bovada', 'spread': '-40.0', 'formattedSpread': 'Texas Tech -40.0', 'overUnder': '80.0'}]\n",
      "[{'provider': 'teamrankings', 'spread': '-13', 'formattedSpread': 'Louisville -13', 'overUnder': '55'}, {'provider': 'numberfire', 'spread': '-13.5', 'formattedSpread': 'Louisville -13.5', 'overUnder': '54.5'}, {'provider': 'consensus', 'spread': '-13', 'formattedSpread': 'Louisville -13', 'overUnder': '55'}, {'provider': 'Caesars', 'spread': '-13', 'formattedSpread': 'Louisville -13', 'overUnder': '55'}, {'provider': 'Bovada', 'spread': '-13.5', 'formattedSpread': 'Louisville -13.5', 'overUnder': '55.5'}]\n",
      "[{'provider': 'teamrankings', 'spread': '-45', 'formattedSpread': 'Texas -45', 'overUnder': '55'}, {'provider': 'numberfire', 'spread': '-44.5', 'formattedSpread': 'Texas -44.5', 'overUnder': '55.5'}, {'provider': 'consensus', 'spread': '-45', 'formattedSpread': 'Texas -45', 'overUnder': '55'}, {'provider': 'Caesars', 'spread': '-44', 'formattedSpread': 'Texas -44', 'overUnder': '56'}, {'provider': 'Bovada', 'spread': '-44.0', 'formattedSpread': 'Texas -44.0', 'overUnder': '56.0'}]\n",
      "[{'provider': 'teamrankings', 'spread': '11.5', 'formattedSpread': 'Tulane -11.5', 'overUnder': '51.5'}, {'provider': 'numberfire', 'spread': '11.5', 'formattedSpread': 'Tulane -11.5', 'overUnder': '51.5'}, {'provider': 'consensus', 'spread': '11.5', 'formattedSpread': 'Tulane -11.5', 'overUnder': '51.5'}, {'provider': 'Caesars', 'spread': '11', 'formattedSpread': 'Tulane -11', 'overUnder': '51.5'}, {'provider': 'Bovada', 'spread': '10.5', 'formattedSpread': 'Tulane -10.5', 'overUnder': '51.5'}]\n",
      "[{'provider': 'teamrankings', 'spread': '34.5', 'formattedSpread': 'Clemson -34.5', 'overUnder': '58.5'}, {'provider': 'numberfire', 'spread': '34.5', 'formattedSpread': 'Clemson -34.5', 'overUnder': '58.5'}, {'provider': 'consensus', 'spread': '34.5', 'formattedSpread': 'Clemson -34.5', 'overUnder': '58.5'}, {'provider': 'Caesars', 'spread': '34', 'formattedSpread': 'Clemson -34', 'overUnder': '59'}, {'provider': 'Bovada', 'spread': '36.0', 'formattedSpread': 'Clemson -36.0', 'overUnder': '59.0'}]\n",
      "[{'provider': 'consensus', 'spread': '-50.5', 'formattedSpread': 'Oklahoma -50.5', 'overUnder': '72'}, {'provider': 'Bovada', 'spread': '-48.0', 'formattedSpread': 'Oklahoma -48.0', 'overUnder': '72.0'}]\n",
      "[{'provider': 'consensus', 'spread': '-30.5', 'formattedSpread': 'Pittsburgh -30.5', 'overUnder': '48.5'}, {'provider': 'Bovada', 'spread': '-31.0', 'formattedSpread': 'Pittsburgh -31.0', 'overUnder': '49.0'}]\n",
      "[{'provider': 'teamrankings', 'spread': '-13', 'formattedSpread': 'Florida State -13', 'overUnder': '49'}, {'provider': 'numberfire', 'spread': '-13.5', 'formattedSpread': 'Florida State -13.5', 'overUnder': '49.5'}, {'provider': 'consensus', 'spread': '-12.5', 'formattedSpread': 'Florida State -12.5', 'overUnder': '50.5'}, {'provider': 'Bovada', 'spread': '-13.5', 'formattedSpread': 'Florida State -13.5', 'overUnder': '49.0'}]\n",
      "[{'provider': 'consensus', 'spread': '-27.5', 'formattedSpread': 'Georgia Southern -27.5', 'overUnder': '58.5'}, {'provider': 'Bovada', 'spread': '-31.0', 'formattedSpread': 'Georgia Southern -31.0', 'overUnder': '58.5'}]\n",
      "[{'provider': 'teamrankings', 'spread': '-6.5', 'formattedSpread': 'Texas State -6.5', 'overUnder': '56.5'}, {'provider': 'numberfire', 'spread': '-6.5', 'formattedSpread': 'Texas State -6.5', 'overUnder': '56.5'}, {'provider': 'consensus', 'spread': '-6', 'formattedSpread': 'Texas State -6', 'overUnder': '56.5'}, {'provider': 'Caesars', 'spread': '-6', 'formattedSpread': 'Texas State -6', 'overUnder': '56.5'}, {'provider': 'Bovada', 'spread': '-6.0', 'formattedSpread': 'Texas State -6.0', 'overUnder': '56.5'}]\n",
      "[{'provider': 'teamrankings', 'spread': '-15', 'formattedSpread': 'Kansas State -15', 'overUnder': '56.5'}, {'provider': 'numberfire', 'spread': '-15.5', 'formattedSpread': 'Kansas State -15.5', 'overUnder': '53.5'}, {'provider': 'consensus', 'spread': '-14.5', 'formattedSpread': 'Kansas State -14.5', 'overUnder': '54.5'}, {'provider': 'Caesars', 'spread': '-14.5', 'formattedSpread': 'Kansas State -14.5', 'overUnder': '55.5'}, {'provider': 'Bovada', 'spread': '-15.5', 'formattedSpread': 'Kansas State -15.5', 'overUnder': '56.0'}]\n",
      "[{'provider': 'teamrankings', 'spread': '-21', 'formattedSpread': 'Notre Dame -21', 'overUnder': '50.5'}, {'provider': 'numberfire', 'spread': '-21.5', 'formattedSpread': 'Notre Dame -21.5', 'overUnder': '51.5'}, {'provider': 'consensus', 'spread': '-21.5', 'formattedSpread': 'Notre Dame -21.5', 'overUnder': '51'}, {'provider': 'Caesars', 'spread': '-21.5', 'formattedSpread': 'Notre Dame -21.5', 'overUnder': '51'}, {'provider': 'Bovada', 'spread': '-22.5', 'formattedSpread': 'Notre Dame -22.5', 'overUnder': '51.5'}]\n",
      "[{'provider': 'teamrankings', 'spread': '-24', 'formattedSpread': 'Army -24', 'overUnder': '53.5'}, {'provider': 'numberfire', 'spread': '-23.5', 'formattedSpread': 'Army -23.5', 'overUnder': '53.5'}, {'provider': 'consensus', 'spread': '-24.5', 'formattedSpread': 'Army -24.5', 'overUnder': '53.5'}, {'provider': 'Caesars', 'spread': '-24', 'formattedSpread': 'Army -24', 'overUnder': '53.5'}, {'provider': 'Bovada', 'spread': '-25.0', 'formattedSpread': 'Army -25.0', 'overUnder': '53.5'}]\n",
      "[{'provider': 'consensus', 'spread': '-17.5', 'formattedSpread': 'South Florida -17.5', 'overUnder': '51.5'}, {'provider': 'Bovada', 'spread': '-17.5', 'formattedSpread': 'South Florida -17.5', 'overUnder': '52.5'}]\n",
      "[{'provider': 'teamrankings', 'spread': '-17', 'formattedSpread': 'Appalachian State -17', 'overUnder': '59'}, {'provider': 'numberfire', 'spread': '-16.5', 'formattedSpread': 'Appalachian State -16.5', 'overUnder': '59.5'}, {'provider': 'consensus', 'spread': '-16.5', 'formattedSpread': 'Appalachian State -16.5', 'overUnder': '59.5'}, {'provider': 'Caesars', 'spread': '-16.5', 'formattedSpread': 'Appalachian State -16.5', 'overUnder': '60'}, {'provider': 'Bovada', 'spread': '-17.0', 'formattedSpread': 'Appalachian State -17.0', 'overUnder': '60.0'}]\n",
      "[{'provider': 'consensus', 'spread': '-41', 'formattedSpread': 'West Virginia -41', 'overUnder': '58.5'}, {'provider': 'Bovada', 'spread': '-41.0', 'formattedSpread': 'West Virginia -41.0', 'overUnder': '59.5'}]\n",
      "[{'provider': 'teamrankings', 'spread': '-13', 'formattedSpread': 'Iowa State -13', 'overUnder': '56.5'}, {'provider': 'numberfire', 'spread': '-12.5', 'formattedSpread': 'Iowa State -12.5', 'overUnder': '55.5'}, {'provider': 'consensus', 'spread': '-13.5', 'formattedSpread': 'Iowa State -13.5', 'overUnder': '56'}, {'provider': 'Caesars', 'spread': '-13', 'formattedSpread': 'Iowa State -13', 'overUnder': '56.5'}, {'provider': 'Bovada', 'spread': '-11.0', 'formattedSpread': 'Iowa State -11.0', 'overUnder': '56.5'}]\n",
      "[{'provider': 'teamrankings', 'spread': '-24', 'formattedSpread': 'North Carolina -24', 'overUnder': '67'}, {'provider': 'numberfire', 'spread': '-24.5', 'formattedSpread': 'North Carolina -24.5', 'overUnder': '66.5'}, {'provider': 'consensus', 'spread': '-24', 'formattedSpread': 'North Carolina -24', 'overUnder': '66.5'}, {'provider': 'Caesars', 'spread': '-23.5', 'formattedSpread': 'North Carolina -23.5', 'overUnder': '66.5'}, {'provider': 'Bovada', 'spread': '-24.5', 'formattedSpread': 'North Carolina -24.5', 'overUnder': '67.0'}]\n",
      "[{'provider': 'teamrankings', 'spread': '-15.5', 'formattedSpread': 'Miami -15.5', 'overUnder': '55'}, {'provider': 'numberfire', 'spread': '-16.5', 'formattedSpread': 'Miami -16.5', 'overUnder': '55.5'}, {'provider': 'consensus', 'spread': '-15.5', 'formattedSpread': 'Miami -15.5', 'overUnder': '55'}, {'provider': 'Caesars', 'spread': '-15.5', 'formattedSpread': 'Miami -15.5', 'overUnder': '55'}, {'provider': 'Bovada', 'spread': '-16.0', 'formattedSpread': 'Miami -16.0', 'overUnder': '55.0'}]\n"
     ]
    }
   ],
   "source": [
    "for n in api_response:\n",
    "    print(n.lines)"
   ]
  },
  {
   "cell_type": "code",
   "execution_count": null,
   "metadata": {},
   "outputs": [],
   "source": []
  }
 ],
 "metadata": {
  "kernelspec": {
   "display_name": "Python 3",
   "language": "python",
   "name": "python3"
  },
  "language_info": {
   "codemirror_mode": {
    "name": "ipython",
    "version": 3
   },
   "file_extension": ".py",
   "mimetype": "text/x-python",
   "name": "python",
   "nbconvert_exporter": "python",
   "pygments_lexer": "ipython3",
   "version": "3.8.3"
  }
 },
 "nbformat": 4,
 "nbformat_minor": 4
}
